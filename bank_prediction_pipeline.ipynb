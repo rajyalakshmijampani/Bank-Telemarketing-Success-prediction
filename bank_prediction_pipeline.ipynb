{
 "cells": [
  {
   "cell_type": "markdown",
   "id": "d795ab17",
   "metadata": {
    "papermill": {
     "duration": 0.019284,
     "end_time": "2024-11-10T14:08:48.110931",
     "exception": false,
     "start_time": "2024-11-10T14:08:48.091647",
     "status": "completed"
    },
    "tags": []
   },
   "source": [
    "# **Index**\n",
    "\n",
    "1. [Introduction](#Introduction)\n",
    "2. [Library Imports](#Library-Imports)\n",
    "3. [Data Loading](#Data-Loading)\n",
    "4. [Exploratory Data Analysis](#Exploratory-Data-Analysis)\n",
    "   - [Univariate Analysis](#Univariate-Analysis)\n",
    "5. [Data Preprocessing](#Data-Preprocessing)\n",
    "6. [Feature Engineering](#Feature-Engineering)\n",
    "7. [Modeling](#Modeling)\n",
    "   - [Logistic Regression](#Logistic-Regression)\n",
    "   - [Stochastic Gradient Descent (SGD) Classifier](#SGD-Classifier)\n",
    "   - [Decision Tree Classifier](#Decision-Tree-Classifier)\n",
    "   - [Random Forest Classifier](#Random-Forest-Classifier)\n",
    "   - [Gradient Boosting Classifier](#Gradient-Boosting-Classifier)\n",
    "   - [XGBoost Classifier](#XG-Boost-Classifier)\n",
    "8. [Model Evaluation](#Model-Evaluation)\n",
    "9. [Final Prediction and Conclusion](#Final-Prediction-and-Conclusion)\n"
   ]
  },
  {
   "cell_type": "markdown",
   "id": "4326f845",
   "metadata": {
    "papermill": {
     "duration": 0.017426,
     "end_time": "2024-11-10T14:08:48.146513",
     "exception": false,
     "start_time": "2024-11-10T14:08:48.129087",
     "status": "completed"
    },
    "tags": []
   },
   "source": [
    "# **Introduction**\n",
    "\n",
    "This project aims to predict the outcome of bank telemarketing efforts. This is a binary classification problem where target to predict takes 'Yes' or 'No' values.\n",
    "\n",
    "The given dataset contains various attributes related to customers and their responses to marketing campaigns. By leveraging machine learning techniques, we seek to identify patterns and factors that influence customer responses to telemarketing calls. Understanding these dynamics will enable the bank to optimize its marketing strategies more efficiently.\n",
    "\n",
    "In the following sections, we will explore the dataset, perform data preprocessing, and apply various machine learning models to ascertain the best predictors of success in bank telemarketing."
   ]
  },
  {
   "cell_type": "markdown",
   "id": "e7b439ee",
   "metadata": {
    "papermill": {
     "duration": 0.0173,
     "end_time": "2024-11-10T14:08:48.182068",
     "exception": false,
     "start_time": "2024-11-10T14:08:48.164768",
     "status": "completed"
    },
    "tags": []
   },
   "source": [
    "# **Library Imports**"
   ]
  },
  {
   "cell_type": "code",
   "execution_count": 1,
   "id": "67595673",
   "metadata": {
    "execution": {
     "iopub.execute_input": "2024-11-10T14:08:48.219912Z",
     "iopub.status.busy": "2024-11-10T14:08:48.218888Z",
     "iopub.status.idle": "2024-11-10T14:08:51.241962Z",
     "shell.execute_reply": "2024-11-10T14:08:51.241080Z"
    },
    "papermill": {
     "duration": 3.044673,
     "end_time": "2024-11-10T14:08:51.244364",
     "exception": false,
     "start_time": "2024-11-10T14:08:48.199691",
     "status": "completed"
    },
    "tags": []
   },
   "outputs": [],
   "source": [
    "# For Data Manipulation and mathematical functions\n",
    "import numpy as np\n",
    "import pandas as pd\n",
    "import math\n",
    "from scipy.stats import skew\n",
    "\n",
    "# For Data Visualization\n",
    "import matplotlib.pyplot as plt\n",
    "import seaborn as sns\n",
    "\n",
    "# Base classes for custom transformers\n",
    "from sklearn.base import BaseEstimator, TransformerMixin\n",
    "\n",
    "# Preprocessing\n",
    "from sklearn.pipeline import Pipeline\n",
    "from sklearn.compose import ColumnTransformer\n",
    "from sklearn.preprocessing import OneHotEncoder,StandardScaler, LabelEncoder, PowerTransformer\n",
    "from sklearn.experimental import enable_iterative_imputer\n",
    "from sklearn.impute import SimpleImputer, IterativeImputer\n",
    "\n",
    "# Feature Selection\n",
    "from sklearn.feature_selection import SelectFromModel, RFE\n",
    "\n",
    "# Model Selection and Evaluation\n",
    "from sklearn.model_selection import train_test_split,GridSearchCV, RandomizedSearchCV\n",
    "from sklearn.metrics import f1_score, make_scorer, ConfusionMatrixDisplay, confusion_matrix\n",
    "\n",
    "# Machine Learning Models\n",
    "from sklearn.dummy import DummyClassifier\n",
    "from sklearn.linear_model import LogisticRegression, SGDClassifier\n",
    "from sklearn.tree import DecisionTreeClassifier\n",
    "from sklearn.ensemble import RandomForestClassifier, GradientBoostingClassifier\n",
    "from xgboost import XGBClassifier\n",
    "\n",
    "# Suppress warnings for cleaner output\n",
    "import warnings\n",
    "warnings.filterwarnings(\"ignore\")"
   ]
  },
  {
   "cell_type": "markdown",
   "id": "7e10939d",
   "metadata": {
    "papermill": {
     "duration": 0.017349,
     "end_time": "2024-11-10T14:08:51.279340",
     "exception": false,
     "start_time": "2024-11-10T14:08:51.261991",
     "status": "completed"
    },
    "tags": []
   },
   "source": [
    "# **Data Loading**"
   ]
  },
  {
   "cell_type": "code",
   "execution_count": 2,
   "id": "6d813762",
   "metadata": {
    "_cell_guid": "b1076dfc-b9ad-4769-8c92-a6c4dae69d19",
    "_uuid": "8f2839f25d086af736a60e9eeb907d3b93b6e0e5",
    "execution": {
     "iopub.execute_input": "2024-11-10T14:08:51.315712Z",
     "iopub.status.busy": "2024-11-10T14:08:51.314661Z",
     "iopub.status.idle": "2024-11-10T14:08:51.322066Z",
     "shell.execute_reply": "2024-11-10T14:08:51.320974Z"
    },
    "papermill": {
     "duration": 0.027703,
     "end_time": "2024-11-10T14:08:51.324198",
     "exception": false,
     "start_time": "2024-11-10T14:08:51.296495",
     "status": "completed"
    },
    "tags": []
   },
   "outputs": [
    {
     "name": "stdout",
     "output_type": "stream",
     "text": [
      "/kaggle/input/predict-the-success-of-bank-telemarketing/sample_submission.csv\n",
      "/kaggle/input/predict-the-success-of-bank-telemarketing/train.csv\n",
      "/kaggle/input/predict-the-success-of-bank-telemarketing/test.csv\n"
     ]
    }
   ],
   "source": [
    "# Getting file paths under input directory\n",
    "\n",
    "import os\n",
    "for dirname, _, filenames in os.walk('/kaggle/input'):\n",
    "    for filename in filenames:\n",
    "        print(os.path.join(dirname, filename))"
   ]
  },
  {
   "cell_type": "code",
   "execution_count": 3,
   "id": "2910722d",
   "metadata": {
    "execution": {
     "iopub.execute_input": "2024-11-10T14:08:51.360290Z",
     "iopub.status.busy": "2024-11-10T14:08:51.359951Z",
     "iopub.status.idle": "2024-11-10T14:08:51.517352Z",
     "shell.execute_reply": "2024-11-10T14:08:51.516484Z"
    },
    "papermill": {
     "duration": 0.178002,
     "end_time": "2024-11-10T14:08:51.519698",
     "exception": false,
     "start_time": "2024-11-10T14:08:51.341696",
     "status": "completed"
    },
    "tags": []
   },
   "outputs": [],
   "source": [
    "train = pd.read_csv('/kaggle/input/predict-the-success-of-bank-telemarketing/train.csv')\n",
    "X_test = pd.read_csv('/kaggle/input/predict-the-success-of-bank-telemarketing/test.csv')\n",
    "sample = pd.read_csv('/kaggle/input/predict-the-success-of-bank-telemarketing/sample_submission.csv')"
   ]
  },
  {
   "cell_type": "code",
   "execution_count": 4,
   "id": "4786bee7",
   "metadata": {
    "execution": {
     "iopub.execute_input": "2024-11-10T14:08:51.556823Z",
     "iopub.status.busy": "2024-11-10T14:08:51.556130Z",
     "iopub.status.idle": "2024-11-10T14:08:51.561204Z",
     "shell.execute_reply": "2024-11-10T14:08:51.560317Z"
    },
    "papermill": {
     "duration": 0.025404,
     "end_time": "2024-11-10T14:08:51.563149",
     "exception": false,
     "start_time": "2024-11-10T14:08:51.537745",
     "status": "completed"
    },
    "tags": []
   },
   "outputs": [
    {
     "name": "stdout",
     "output_type": "stream",
     "text": [
      "(39211, 16) (10000, 15)\n"
     ]
    }
   ],
   "source": [
    "print(train.shape,X_test.shape)"
   ]
  },
  {
   "cell_type": "markdown",
   "id": "c7fe4401",
   "metadata": {
    "papermill": {
     "duration": 0.017216,
     "end_time": "2024-11-10T14:08:51.597799",
     "exception": false,
     "start_time": "2024-11-10T14:08:51.580583",
     "status": "completed"
    },
    "tags": []
   },
   "source": [
    "The data has 39211 samples for training and 10000 samples for testing. It has 15 features and one target column."
   ]
  },
  {
   "cell_type": "markdown",
   "id": "680036bd",
   "metadata": {
    "papermill": {
     "duration": 0.01716,
     "end_time": "2024-11-10T14:08:51.632290",
     "exception": false,
     "start_time": "2024-11-10T14:08:51.615130",
     "status": "completed"
    },
    "tags": []
   },
   "source": [
    "# **Exploratory Data Analysis**"
   ]
  },
  {
   "cell_type": "code",
   "execution_count": 5,
   "id": "6113b6ec",
   "metadata": {
    "execution": {
     "iopub.execute_input": "2024-11-10T14:08:51.669126Z",
     "iopub.status.busy": "2024-11-10T14:08:51.668228Z",
     "iopub.status.idle": "2024-11-10T14:08:51.692984Z",
     "shell.execute_reply": "2024-11-10T14:08:51.692052Z"
    },
    "papermill": {
     "duration": 0.045352,
     "end_time": "2024-11-10T14:08:51.695029",
     "exception": false,
     "start_time": "2024-11-10T14:08:51.649677",
     "status": "completed"
    },
    "tags": []
   },
   "outputs": [
    {
     "data": {
      "text/html": [
       "<div>\n",
       "<style scoped>\n",
       "    .dataframe tbody tr th:only-of-type {\n",
       "        vertical-align: middle;\n",
       "    }\n",
       "\n",
       "    .dataframe tbody tr th {\n",
       "        vertical-align: top;\n",
       "    }\n",
       "\n",
       "    .dataframe thead th {\n",
       "        text-align: right;\n",
       "    }\n",
       "</style>\n",
       "<table border=\"1\" class=\"dataframe\">\n",
       "  <thead>\n",
       "    <tr style=\"text-align: right;\">\n",
       "      <th></th>\n",
       "      <th>last contact date</th>\n",
       "      <th>age</th>\n",
       "      <th>job</th>\n",
       "      <th>marital</th>\n",
       "      <th>education</th>\n",
       "      <th>default</th>\n",
       "      <th>balance</th>\n",
       "      <th>housing</th>\n",
       "      <th>loan</th>\n",
       "      <th>contact</th>\n",
       "      <th>duration</th>\n",
       "      <th>campaign</th>\n",
       "      <th>pdays</th>\n",
       "      <th>previous</th>\n",
       "      <th>poutcome</th>\n",
       "      <th>target</th>\n",
       "    </tr>\n",
       "  </thead>\n",
       "  <tbody>\n",
       "    <tr>\n",
       "      <th>0</th>\n",
       "      <td>2009-04-17</td>\n",
       "      <td>26</td>\n",
       "      <td>blue-collar</td>\n",
       "      <td>married</td>\n",
       "      <td>secondary</td>\n",
       "      <td>no</td>\n",
       "      <td>647</td>\n",
       "      <td>yes</td>\n",
       "      <td>no</td>\n",
       "      <td>cellular</td>\n",
       "      <td>357</td>\n",
       "      <td>2</td>\n",
       "      <td>331</td>\n",
       "      <td>1</td>\n",
       "      <td>other</td>\n",
       "      <td>no</td>\n",
       "    </tr>\n",
       "    <tr>\n",
       "      <th>1</th>\n",
       "      <td>2009-10-11</td>\n",
       "      <td>52</td>\n",
       "      <td>technician</td>\n",
       "      <td>married</td>\n",
       "      <td>secondary</td>\n",
       "      <td>no</td>\n",
       "      <td>553</td>\n",
       "      <td>yes</td>\n",
       "      <td>no</td>\n",
       "      <td>telephone</td>\n",
       "      <td>160</td>\n",
       "      <td>1</td>\n",
       "      <td>-1</td>\n",
       "      <td>0</td>\n",
       "      <td>NaN</td>\n",
       "      <td>no</td>\n",
       "    </tr>\n",
       "    <tr>\n",
       "      <th>2</th>\n",
       "      <td>2010-11-20</td>\n",
       "      <td>44</td>\n",
       "      <td>blue-collar</td>\n",
       "      <td>married</td>\n",
       "      <td>secondary</td>\n",
       "      <td>no</td>\n",
       "      <td>1397</td>\n",
       "      <td>no</td>\n",
       "      <td>no</td>\n",
       "      <td>cellular</td>\n",
       "      <td>326</td>\n",
       "      <td>1</td>\n",
       "      <td>-1</td>\n",
       "      <td>0</td>\n",
       "      <td>NaN</td>\n",
       "      <td>no</td>\n",
       "    </tr>\n",
       "    <tr>\n",
       "      <th>3</th>\n",
       "      <td>2009-09-01</td>\n",
       "      <td>33</td>\n",
       "      <td>admin.</td>\n",
       "      <td>married</td>\n",
       "      <td>secondary</td>\n",
       "      <td>no</td>\n",
       "      <td>394</td>\n",
       "      <td>yes</td>\n",
       "      <td>no</td>\n",
       "      <td>telephone</td>\n",
       "      <td>104</td>\n",
       "      <td>3</td>\n",
       "      <td>-1</td>\n",
       "      <td>0</td>\n",
       "      <td>NaN</td>\n",
       "      <td>no</td>\n",
       "    </tr>\n",
       "    <tr>\n",
       "      <th>4</th>\n",
       "      <td>2008-01-29</td>\n",
       "      <td>31</td>\n",
       "      <td>entrepreneur</td>\n",
       "      <td>single</td>\n",
       "      <td>tertiary</td>\n",
       "      <td>no</td>\n",
       "      <td>137</td>\n",
       "      <td>no</td>\n",
       "      <td>no</td>\n",
       "      <td>cellular</td>\n",
       "      <td>445</td>\n",
       "      <td>2</td>\n",
       "      <td>-1</td>\n",
       "      <td>0</td>\n",
       "      <td>NaN</td>\n",
       "      <td>no</td>\n",
       "    </tr>\n",
       "  </tbody>\n",
       "</table>\n",
       "</div>"
      ],
      "text/plain": [
       "  last contact date  age           job  marital  education default  balance  \\\n",
       "0        2009-04-17   26   blue-collar  married  secondary      no      647   \n",
       "1        2009-10-11   52    technician  married  secondary      no      553   \n",
       "2        2010-11-20   44   blue-collar  married  secondary      no     1397   \n",
       "3        2009-09-01   33        admin.  married  secondary      no      394   \n",
       "4        2008-01-29   31  entrepreneur   single   tertiary      no      137   \n",
       "\n",
       "  housing loan    contact  duration  campaign  pdays  previous poutcome target  \n",
       "0     yes   no   cellular       357         2    331         1    other     no  \n",
       "1     yes   no  telephone       160         1     -1         0      NaN     no  \n",
       "2      no   no   cellular       326         1     -1         0      NaN     no  \n",
       "3     yes   no  telephone       104         3     -1         0      NaN     no  \n",
       "4      no   no   cellular       445         2     -1         0      NaN     no  "
      ]
     },
     "execution_count": 5,
     "metadata": {},
     "output_type": "execute_result"
    }
   ],
   "source": [
    "train.head()"
   ]
  },
  {
   "cell_type": "code",
   "execution_count": 6,
   "id": "f573005a",
   "metadata": {
    "execution": {
     "iopub.execute_input": "2024-11-10T14:08:51.731853Z",
     "iopub.status.busy": "2024-11-10T14:08:51.731472Z",
     "iopub.status.idle": "2024-11-10T14:08:51.775061Z",
     "shell.execute_reply": "2024-11-10T14:08:51.773929Z"
    },
    "papermill": {
     "duration": 0.06445,
     "end_time": "2024-11-10T14:08:51.777246",
     "exception": false,
     "start_time": "2024-11-10T14:08:51.712796",
     "status": "completed"
    },
    "tags": []
   },
   "outputs": [
    {
     "name": "stdout",
     "output_type": "stream",
     "text": [
      "0\n"
     ]
    }
   ],
   "source": [
    "print(train.duplicated().sum())"
   ]
  },
  {
   "cell_type": "markdown",
   "id": "7b8d54ad",
   "metadata": {
    "papermill": {
     "duration": 0.017366,
     "end_time": "2024-11-10T14:08:51.812501",
     "exception": false,
     "start_time": "2024-11-10T14:08:51.795135",
     "status": "completed"
    },
    "tags": []
   },
   "source": [
    "There are no duplicated records in the training dataset."
   ]
  },
  {
   "cell_type": "code",
   "execution_count": 7,
   "id": "bde3a5d6",
   "metadata": {
    "execution": {
     "iopub.execute_input": "2024-11-10T14:08:51.849537Z",
     "iopub.status.busy": "2024-11-10T14:08:51.849167Z",
     "iopub.status.idle": "2024-11-10T14:08:52.418511Z",
     "shell.execute_reply": "2024-11-10T14:08:52.417662Z"
    },
    "papermill": {
     "duration": 0.59073,
     "end_time": "2024-11-10T14:08:52.421227",
     "exception": false,
     "start_time": "2024-11-10T14:08:51.830497",
     "status": "completed"
    },
    "tags": []
   },
   "outputs": [],
   "source": [
    "# Extracting year, month and day of week from the \"last contact date\" column\n",
    "\n",
    "#train['year'] = pd.to_datetime(train['last contact date']).dt.year.astype('category')\n",
    "train['month'] = pd.to_datetime(train['last contact date']).dt.strftime('%b') # For abbreviated month names\n",
    "train['day'] = pd.to_datetime(train['last contact date']).dt.strftime('%a') # For abbreviated weekday names\n",
    "train.drop('last contact date',axis = 1, inplace=True)\n",
    "\n",
    "#X_test['year'] = pd.to_datetime(X_test['last contact date']).dt.year.astype('category')\n",
    "X_test['month'] = pd.to_datetime(X_test['last contact date']).dt.strftime('%b')\n",
    "X_test['day'] = pd.to_datetime(X_test['last contact date']).dt.strftime('%a')\n",
    "X_test.drop('last contact date',axis = 1, inplace=True)"
   ]
  },
  {
   "cell_type": "markdown",
   "id": "3e2b3ea7",
   "metadata": {
    "papermill": {
     "duration": 0.017848,
     "end_time": "2024-11-10T14:08:52.458908",
     "exception": false,
     "start_time": "2024-11-10T14:08:52.441060",
     "status": "completed"
    },
    "tags": []
   },
   "source": [
    "* Extracting month numbers and dates did not contain any numerical significance. Models generalized better when they are extracted as categorical values and One Hot encoded.\n",
    "* Including Year column, showed negative impact on model performance. It reduced the score may be due to increased model complexity. So, dropped it."
   ]
  },
  {
   "cell_type": "code",
   "execution_count": 8,
   "id": "d4ce3c14",
   "metadata": {
    "execution": {
     "iopub.execute_input": "2024-11-10T14:08:52.498013Z",
     "iopub.status.busy": "2024-11-10T14:08:52.497078Z",
     "iopub.status.idle": "2024-11-10T14:08:52.533024Z",
     "shell.execute_reply": "2024-11-10T14:08:52.532084Z"
    },
    "papermill": {
     "duration": 0.058189,
     "end_time": "2024-11-10T14:08:52.535226",
     "exception": false,
     "start_time": "2024-11-10T14:08:52.477037",
     "status": "completed"
    },
    "tags": []
   },
   "outputs": [
    {
     "data": {
      "text/html": [
       "<div>\n",
       "<style scoped>\n",
       "    .dataframe tbody tr th:only-of-type {\n",
       "        vertical-align: middle;\n",
       "    }\n",
       "\n",
       "    .dataframe tbody tr th {\n",
       "        vertical-align: top;\n",
       "    }\n",
       "\n",
       "    .dataframe thead th {\n",
       "        text-align: right;\n",
       "    }\n",
       "</style>\n",
       "<table border=\"1\" class=\"dataframe\">\n",
       "  <thead>\n",
       "    <tr style=\"text-align: right;\">\n",
       "      <th></th>\n",
       "      <th>age</th>\n",
       "      <th>balance</th>\n",
       "      <th>duration</th>\n",
       "      <th>campaign</th>\n",
       "      <th>pdays</th>\n",
       "      <th>previous</th>\n",
       "    </tr>\n",
       "  </thead>\n",
       "  <tbody>\n",
       "    <tr>\n",
       "      <th>count</th>\n",
       "      <td>39211.000000</td>\n",
       "      <td>39211.000000</td>\n",
       "      <td>39211.000000</td>\n",
       "      <td>39211.000000</td>\n",
       "      <td>39211.000000</td>\n",
       "      <td>39211.000000</td>\n",
       "    </tr>\n",
       "    <tr>\n",
       "      <th>mean</th>\n",
       "      <td>42.120247</td>\n",
       "      <td>5441.781719</td>\n",
       "      <td>439.062789</td>\n",
       "      <td>5.108770</td>\n",
       "      <td>72.256051</td>\n",
       "      <td>11.826171</td>\n",
       "    </tr>\n",
       "    <tr>\n",
       "      <th>std</th>\n",
       "      <td>12.709352</td>\n",
       "      <td>16365.292065</td>\n",
       "      <td>769.096291</td>\n",
       "      <td>9.890153</td>\n",
       "      <td>160.942593</td>\n",
       "      <td>44.140259</td>\n",
       "    </tr>\n",
       "    <tr>\n",
       "      <th>min</th>\n",
       "      <td>18.000000</td>\n",
       "      <td>-8019.000000</td>\n",
       "      <td>0.000000</td>\n",
       "      <td>1.000000</td>\n",
       "      <td>-1.000000</td>\n",
       "      <td>0.000000</td>\n",
       "    </tr>\n",
       "    <tr>\n",
       "      <th>25%</th>\n",
       "      <td>33.000000</td>\n",
       "      <td>98.000000</td>\n",
       "      <td>109.000000</td>\n",
       "      <td>1.000000</td>\n",
       "      <td>-1.000000</td>\n",
       "      <td>0.000000</td>\n",
       "    </tr>\n",
       "    <tr>\n",
       "      <th>50%</th>\n",
       "      <td>40.000000</td>\n",
       "      <td>549.000000</td>\n",
       "      <td>197.000000</td>\n",
       "      <td>2.000000</td>\n",
       "      <td>-1.000000</td>\n",
       "      <td>0.000000</td>\n",
       "    </tr>\n",
       "    <tr>\n",
       "      <th>75%</th>\n",
       "      <td>50.000000</td>\n",
       "      <td>2030.000000</td>\n",
       "      <td>380.000000</td>\n",
       "      <td>4.000000</td>\n",
       "      <td>-1.000000</td>\n",
       "      <td>0.000000</td>\n",
       "    </tr>\n",
       "    <tr>\n",
       "      <th>max</th>\n",
       "      <td>95.000000</td>\n",
       "      <td>102127.000000</td>\n",
       "      <td>4918.000000</td>\n",
       "      <td>63.000000</td>\n",
       "      <td>871.000000</td>\n",
       "      <td>275.000000</td>\n",
       "    </tr>\n",
       "  </tbody>\n",
       "</table>\n",
       "</div>"
      ],
      "text/plain": [
       "                age        balance      duration      campaign         pdays  \\\n",
       "count  39211.000000   39211.000000  39211.000000  39211.000000  39211.000000   \n",
       "mean      42.120247    5441.781719    439.062789      5.108770     72.256051   \n",
       "std       12.709352   16365.292065    769.096291      9.890153    160.942593   \n",
       "min       18.000000   -8019.000000      0.000000      1.000000     -1.000000   \n",
       "25%       33.000000      98.000000    109.000000      1.000000     -1.000000   \n",
       "50%       40.000000     549.000000    197.000000      2.000000     -1.000000   \n",
       "75%       50.000000    2030.000000    380.000000      4.000000     -1.000000   \n",
       "max       95.000000  102127.000000   4918.000000     63.000000    871.000000   \n",
       "\n",
       "           previous  \n",
       "count  39211.000000  \n",
       "mean      11.826171  \n",
       "std       44.140259  \n",
       "min        0.000000  \n",
       "25%        0.000000  \n",
       "50%        0.000000  \n",
       "75%        0.000000  \n",
       "max      275.000000  "
      ]
     },
     "execution_count": 8,
     "metadata": {},
     "output_type": "execute_result"
    }
   ],
   "source": [
    "train.describe()"
   ]
  },
  {
   "cell_type": "markdown",
   "id": "2c52979c",
   "metadata": {
    "papermill": {
     "duration": 0.017729,
     "end_time": "2024-11-10T14:08:52.571000",
     "exception": false,
     "start_time": "2024-11-10T14:08:52.553271",
     "status": "completed"
    },
    "tags": []
   },
   "source": [
    "* 6 numerical features in the data.\n",
    "* Age is varying from 18 to 95 years. Average age = 42 years.\n",
    "* High standard deviation (16365) of balance. Some accounts have negative balances as low as -8019.\n",
    "* Average call duration = 439 sec (~ 7 min). Longest call = 4918 sec (~ 1 hr 20 min).\n",
    "* Many entries in 'pdays' column have a value of -1, i.e. most clients were not previously contacted.\n",
    "* Respondents have been contacted an average of 12 times in the past."
   ]
  },
  {
   "cell_type": "code",
   "execution_count": 9,
   "id": "9ea0eaca",
   "metadata": {
    "execution": {
     "iopub.execute_input": "2024-11-10T14:08:52.649726Z",
     "iopub.status.busy": "2024-11-10T14:08:52.649336Z",
     "iopub.status.idle": "2024-11-10T14:08:52.682244Z",
     "shell.execute_reply": "2024-11-10T14:08:52.681287Z"
    },
    "papermill": {
     "duration": 0.095596,
     "end_time": "2024-11-10T14:08:52.684459",
     "exception": false,
     "start_time": "2024-11-10T14:08:52.588863",
     "status": "completed"
    },
    "tags": []
   },
   "outputs": [
    {
     "data": {
      "text/plain": [
       "age            78\n",
       "job            11\n",
       "marital         3\n",
       "education       3\n",
       "default         2\n",
       "balance      9535\n",
       "housing         2\n",
       "loan            2\n",
       "contact         2\n",
       "duration     3146\n",
       "campaign       63\n",
       "pdays         865\n",
       "previous      276\n",
       "poutcome        3\n",
       "target          2\n",
       "month          12\n",
       "day             7\n",
       "dtype: int64"
      ]
     },
     "execution_count": 9,
     "metadata": {},
     "output_type": "execute_result"
    }
   ],
   "source": [
    "train.nunique()"
   ]
  },
  {
   "cell_type": "code",
   "execution_count": 10,
   "id": "345d55be",
   "metadata": {
    "execution": {
     "iopub.execute_input": "2024-11-10T14:08:52.723052Z",
     "iopub.status.busy": "2024-11-10T14:08:52.722112Z",
     "iopub.status.idle": "2024-11-10T14:08:52.750644Z",
     "shell.execute_reply": "2024-11-10T14:08:52.749702Z"
    },
    "papermill": {
     "duration": 0.049809,
     "end_time": "2024-11-10T14:08:52.752706",
     "exception": false,
     "start_time": "2024-11-10T14:08:52.702897",
     "status": "completed"
    },
    "tags": []
   },
   "outputs": [
    {
     "data": {
      "text/plain": [
       "job           0.584020\n",
       "education     3.741297\n",
       "contact      26.359950\n",
       "poutcome     75.109026\n",
       "dtype: float64"
      ]
     },
     "execution_count": 10,
     "metadata": {},
     "output_type": "execute_result"
    }
   ],
   "source": [
    "# Identifying fraction of null values in each column\n",
    "\n",
    "null_fraction = train.isna().sum()/len(train)*100\n",
    "\n",
    "null_fraction[null_fraction > 0]"
   ]
  },
  {
   "cell_type": "markdown",
   "id": "fd9f1c4c",
   "metadata": {
    "papermill": {
     "duration": 0.017814,
     "end_time": "2024-11-10T14:08:52.788960",
     "exception": false,
     "start_time": "2024-11-10T14:08:52.771146",
     "status": "completed"
    },
    "tags": []
   },
   "source": [
    "* Only 4 categorical features have null values in them. \n",
    "* 'poutcome' has 75% data missing. Contains very little (can be important) information."
   ]
  },
  {
   "cell_type": "markdown",
   "id": "1047d498",
   "metadata": {
    "papermill": {
     "duration": 0.017783,
     "end_time": "2024-11-10T14:08:52.824821",
     "exception": false,
     "start_time": "2024-11-10T14:08:52.807038",
     "status": "completed"
    },
    "tags": []
   },
   "source": [
    "**Frequency distribution of target**"
   ]
  },
  {
   "cell_type": "code",
   "execution_count": 11,
   "id": "7046445c",
   "metadata": {
    "execution": {
     "iopub.execute_input": "2024-11-10T14:08:52.863018Z",
     "iopub.status.busy": "2024-11-10T14:08:52.862014Z",
     "iopub.status.idle": "2024-11-10T14:08:53.071452Z",
     "shell.execute_reply": "2024-11-10T14:08:53.070221Z"
    },
    "papermill": {
     "duration": 0.232132,
     "end_time": "2024-11-10T14:08:53.074952",
     "exception": false,
     "start_time": "2024-11-10T14:08:52.842820",
     "status": "completed"
    },
    "tags": []
   },
   "outputs": [
    {
     "data": {
      "image/png": "[encoded data removed]",
      "text/plain": [
       "<Figure size 500x300 with 1 Axes>"
      ]
     },
     "metadata": {},
     "output_type": "display_data"
    }
   ],
   "source": [
    "plt.figure(figsize=(5,3))\n",
    "plt.yticks(ticks=range(0, 40001, 10000))\n",
    "ax=sns.countplot(x=train['target'], data=train, width=0.5)\n",
    "ax.set_ylabel('Frequency')\n",
    "ax.set_ylim(0, 40001)\n",
    "\n",
    "total = len(train)\n",
    "for p in ax.patches:\n",
    "    height = p.get_height()\n",
    "    percentage = (height / total) * 100\n",
    "    ax.annotate(f'{height:.0f} ({percentage:.1f}%)',(p.get_x() + p.get_width() / 2., height + 1000),\n",
    "                ha='center', va='bottom');\n"
   ]
  },
  {
   "cell_type": "markdown",
   "id": "ff69053a",
   "metadata": {
    "papermill": {
     "duration": 0.027096,
     "end_time": "2024-11-10T14:08:53.135206",
     "exception": false,
     "start_time": "2024-11-10T14:08:53.108110",
     "status": "completed"
    },
    "tags": []
   },
   "source": [
    "* The dataset is highly imbalanced. 85% of the data has target=no."
   ]
  },
  {
   "cell_type": "markdown",
   "id": "aaa51b2c",
   "metadata": {
    "papermill": {
     "duration": 0.018547,
     "end_time": "2024-11-10T14:08:53.173676",
     "exception": false,
     "start_time": "2024-11-10T14:08:53.155129",
     "status": "completed"
    },
    "tags": []
   },
   "source": [
    "## **Univariate Analysis**"
   ]
  },
  {
   "cell_type": "markdown",
   "id": "83bba3fa",
   "metadata": {
    "papermill": {
     "duration": 0.018843,
     "end_time": "2024-11-10T14:08:53.211248",
     "exception": false,
     "start_time": "2024-11-10T14:08:53.192405",
     "status": "completed"
    },
    "tags": []
   },
   "source": [
    "**Age (Numerical)**"
   ]
  },
  {
   "cell_type": "code",
   "execution_count": 12,
   "id": "774fdef4",
   "metadata": {
    "execution": {
     "iopub.execute_input": "2024-11-10T14:08:53.250411Z",
     "iopub.status.busy": "2024-11-10T14:08:53.249649Z",
     "iopub.status.idle": "2024-11-10T14:08:53.770504Z",
     "shell.execute_reply": "2024-11-10T14:08:53.769316Z"
    },
    "papermill": {
     "duration": 0.543021,
     "end_time": "2024-11-10T14:08:53.772933",
     "exception": false,
     "start_time": "2024-11-10T14:08:53.229912",
     "status": "completed"
    },
    "tags": []
   },
   "outputs": [
    {
     "data": {
      "image/png": "[encoded data removed]",
      "text/plain": [
       "<Figure size 2000x400 with 3 Axes>"
      ]
     },
     "metadata": {},
     "output_type": "display_data"
    }
   ],
   "source": [
    "fig, axes = plt.subplots(1, 3, figsize=(20, 4))\n",
    "\n",
    "# Histogram\n",
    "axes[0].hist(train['age'])\n",
    "axes[0].set_xlabel('Age (in years)')\n",
    "axes[0].set_ylabel('Frequency')\n",
    "\n",
    "# Boxplot\n",
    "sns.boxplot(train['age'], ax=axes[1])\n",
    "axes[1].set_xticks([])\n",
    "axes[1].set_ylabel('Age (in years)')\n",
    "\n",
    "# Grouped boxplot, target-wise\n",
    "sns.boxplot(train, x=train['target'],y=train['age'],ax=axes[2])\n",
    "axes[2].set_ylabel('Age (in years)')\n",
    "\n",
    "plt.show()"
   ]
  },
  {
   "cell_type": "markdown",
   "id": "d8733e0a",
   "metadata": {
    "papermill": {
     "duration": 0.02414,
     "end_time": "2024-11-10T14:08:53.821863",
     "exception": false,
     "start_time": "2024-11-10T14:08:53.797723",
     "status": "completed"
    },
    "tags": []
   },
   "source": [
    "* Most samples have age in 30-40 range.\n",
    "* Outliers lie in 75-90+ range, which are also acceptable values.\n",
    "* Median of target=no and target=yes both lie around 40. Age may not be impacting the target much."
   ]
  },
  {
   "cell_type": "markdown",
   "id": "dd7044a0",
   "metadata": {
    "papermill": {
     "duration": 0.019232,
     "end_time": "2024-11-10T14:08:53.860118",
     "exception": false,
     "start_time": "2024-11-10T14:08:53.840886",
     "status": "completed"
    },
    "tags": []
   },
   "source": [
    "**Balance (Numerical)** "
   ]
  },
  {
   "cell_type": "code",
   "execution_count": 13,
   "id": "842876e5",
   "metadata": {
    "execution": {
     "iopub.execute_input": "2024-11-10T14:08:53.902626Z",
     "iopub.status.busy": "2024-11-10T14:08:53.901725Z",
     "iopub.status.idle": "2024-11-10T14:08:53.917967Z",
     "shell.execute_reply": "2024-11-10T14:08:53.916841Z"
    },
    "papermill": {
     "duration": 0.038966,
     "end_time": "2024-11-10T14:08:53.920289",
     "exception": false,
     "start_time": "2024-11-10T14:08:53.881323",
     "status": "completed"
    },
    "tags": []
   },
   "outputs": [
    {
     "name": "stdout",
     "output_type": "stream",
     "text": [
      "count     39211.000000\n",
      "mean       5441.781719\n",
      "std       16365.292065\n",
      "min       -8019.000000\n",
      "25%          98.000000\n",
      "50%         549.000000\n",
      "75%        2030.000000\n",
      "max      102127.000000\n",
      "90%        8121.000000\n",
      "95%       40126.500000\n",
      "99%       90037.500000\n",
      "Name: balance, dtype: float64\n"
     ]
    }
   ],
   "source": [
    "# Basic descriptive statistics\n",
    "desc = train['balance'].describe()\n",
    "\n",
    "# Getting 90th, 95th and 99th percentiles\n",
    "desc['90%'] = train['balance'].quantile(0.90)\n",
    "desc['95%'] = train['balance'].quantile(0.95)\n",
    "desc['99%'] = train['balance'].quantile(0.99)\n",
    "\n",
    "print(desc)"
   ]
  },
  {
   "cell_type": "markdown",
   "id": "0828a2e9",
   "metadata": {
    "papermill": {
     "duration": 0.018943,
     "end_time": "2024-11-10T14:08:53.958997",
     "exception": false,
     "start_time": "2024-11-10T14:08:53.940054",
     "status": "completed"
    },
    "tags": []
   },
   "source": [
    "* Huge difference between 75% and max values, but the values are increasing steadily. 95%, 99% and max values are close enough. Need not consider as outliers."
   ]
  },
  {
   "cell_type": "markdown",
   "id": "46bf7a44",
   "metadata": {
    "papermill": {
     "duration": 0.019343,
     "end_time": "2024-11-10T14:08:53.997832",
     "exception": false,
     "start_time": "2024-11-10T14:08:53.978489",
     "status": "completed"
    },
    "tags": []
   },
   "source": [
    "**Duration (Numerical)**"
   ]
  },
  {
   "cell_type": "code",
   "execution_count": 14,
   "id": "1a3d5312",
   "metadata": {
    "execution": {
     "iopub.execute_input": "2024-11-10T14:08:54.039790Z",
     "iopub.status.busy": "2024-11-10T14:08:54.038954Z",
     "iopub.status.idle": "2024-11-10T14:08:54.523478Z",
     "shell.execute_reply": "2024-11-10T14:08:54.522430Z"
    },
    "papermill": {
     "duration": 0.508343,
     "end_time": "2024-11-10T14:08:54.525810",
     "exception": false,
     "start_time": "2024-11-10T14:08:54.017467",
     "status": "completed"
    },
    "tags": []
   },
   "outputs": [
    {
     "data": {
      "image/png": "[encoded data removed]",
      "text/plain": [
       "<Figure size 1200x300 with 2 Axes>"
      ]
     },
     "metadata": {},
     "output_type": "display_data"
    }
   ],
   "source": [
    "fig, axes = plt.subplots(1, 2, figsize=(12, 3))\n",
    "\n",
    "# Histogram\n",
    "axes[0].hist(train['duration'],bins=50)\n",
    "axes[0].set_xlabel('Duration(in sec)')\n",
    "axes[0].set_ylabel('Frequency')\n",
    "\n",
    "# Grouped boxplot, target-wise\n",
    "sns.boxplot(train, x=train['target'],y=train['duration'],ax=axes[1])\n",
    "axes[1].set_ylabel('Durtion (in sec)')\n",
    "\n",
    "plt.tight_layout()\n",
    "plt.show()"
   ]
  },
  {
   "cell_type": "markdown",
   "id": "877c4a96",
   "metadata": {
    "papermill": {
     "duration": 0.019607,
     "end_time": "2024-11-10T14:08:54.565460",
     "exception": false,
     "start_time": "2024-11-10T14:08:54.545853",
     "status": "completed"
    },
    "tags": []
   },
   "source": [
    "* Duration is highly skewed showing power-law distribution.\n",
    "* For target=no, mean duration is lesser. For target=yes, mean duration is higher. Customers collecting more information over the call =>  more likely to subscribe to the term deposit.\n",
    "* High chances that duration will affect the target variable."
   ]
  },
  {
   "cell_type": "markdown",
   "id": "10c2dd78",
   "metadata": {
    "papermill": {
     "duration": 0.019554,
     "end_time": "2024-11-10T14:08:54.605066",
     "exception": false,
     "start_time": "2024-11-10T14:08:54.585512",
     "status": "completed"
    },
    "tags": []
   },
   "source": [
    "**Job (Categorical - Nominal)**"
   ]
  },
  {
   "cell_type": "code",
   "execution_count": 15,
   "id": "563185c4",
   "metadata": {
    "execution": {
     "iopub.execute_input": "2024-11-10T14:08:54.646811Z",
     "iopub.status.busy": "2024-11-10T14:08:54.646023Z",
     "iopub.status.idle": "2024-11-10T14:08:55.198831Z",
     "shell.execute_reply": "2024-11-10T14:08:55.197839Z"
    },
    "papermill": {
     "duration": 0.576735,
     "end_time": "2024-11-10T14:08:55.201355",
     "exception": false,
     "start_time": "2024-11-10T14:08:54.624620",
     "status": "completed"
    },
    "tags": []
   },
   "outputs": [
    {
     "data": {
      "image/png": "[encoded data removed]",
      "text/plain": [
       "<Figure size 1200x500 with 2 Axes>"
      ]
     },
     "metadata": {},
     "output_type": "display_data"
    }
   ],
   "source": [
    "fig, axes = plt.subplots(1, 2, figsize=(12, 5))\n",
    "\n",
    "# Creating a horizontal bar plot to accommodate job titles better\n",
    "job_counts = (train['job'].value_counts(normalize=True) * 100).sort_values(ascending=True)\n",
    "axes[0].barh(job_counts.index, job_counts.values,height=0.4)\n",
    "axes[0].tick_params(axis='both', which='major', labelsize=9)\n",
    "axes[0].set_title('Job Distribution (in %)')\n",
    "x_ticks = np.arange(0, max(job_counts.values) + 3,4)  # Create ticks from 0 to max value\n",
    "axes[0].set_xticks(x_ticks)\n",
    "axes[0].set_xticklabels(x_ticks.astype(int), fontsize=9)\n",
    "axes[0].set_xlabel('Percentage')\n",
    "\n",
    "plt.subplots_adjust(wspace=0.4)\n",
    "\n",
    "# Grouped bar plot, target-wise\n",
    "counts = train.pivot_table(index='job', columns=train['target'], aggfunc='size', fill_value=0)\n",
    "counts_percent = counts.div(counts.sum(axis=1), axis=0) * 100\n",
    "counts_percent = counts_percent.reindex(job_counts.index)\n",
    "y_axis = np.arange(len(counts_percent.index))  # positions for job types\n",
    "width = 0.35 \n",
    "\n",
    "# Create the bars for targets\n",
    "axes[1].barh(y_axis + width/2, counts_percent['no'], width, label='no')\n",
    "axes[1].barh(y_axis - width/2, counts_percent['yes'], width, label='yes', color='salmon')\n",
    "\n",
    "# Set the labels and title\n",
    "axes[1].set_yticks(y_axis)\n",
    "axes[1].set_yticklabels(counts_percent.index,fontsize=9)\n",
    "axes[1].set_title('Job Distribution by target (in %)')\n",
    "axes[1].set_xlabel('Percentage')\n",
    "\n",
    "axes[1].legend()\n",
    "plt.show()"
   ]
  },
  {
   "cell_type": "markdown",
   "id": "c00bb3f0",
   "metadata": {
    "papermill": {
     "duration": 0.02014,
     "end_time": "2024-11-10T14:08:55.242022",
     "exception": false,
     "start_time": "2024-11-10T14:08:55.221882",
     "status": "completed"
    },
    "tags": []
   },
   "source": [
    "* 'blue-collar' category has highest overall frequency, but least subscription rate.\n",
    "* 'student' category has lowest overall frequency, but highest subscription rate."
   ]
  },
  {
   "cell_type": "markdown",
   "id": "b58f7f7f",
   "metadata": {
    "papermill": {
     "duration": 0.019791,
     "end_time": "2024-11-10T14:08:55.281865",
     "exception": false,
     "start_time": "2024-11-10T14:08:55.262074",
     "status": "completed"
    },
    "tags": []
   },
   "source": [
    "**Other Categorical Features**"
   ]
  },
  {
   "cell_type": "code",
   "execution_count": 16,
   "id": "d83225b8",
   "metadata": {
    "execution": {
     "iopub.execute_input": "2024-11-10T14:08:55.323516Z",
     "iopub.status.busy": "2024-11-10T14:08:55.323165Z",
     "iopub.status.idle": "2024-11-10T14:08:56.401996Z",
     "shell.execute_reply": "2024-11-10T14:08:56.400964Z"
    },
    "papermill": {
     "duration": 1.103048,
     "end_time": "2024-11-10T14:08:56.404932",
     "exception": false,
     "start_time": "2024-11-10T14:08:55.301884",
     "status": "completed"
    },
    "tags": []
   },
   "outputs": [
    {
     "data": {
      "image/png": "[encoded data removed]",
      "text/plain": [
       "<Figure size 2000x700 with 8 Axes>"
      ]
     },
     "metadata": {},
     "output_type": "display_data"
    }
   ],
   "source": [
    "cols = ['marital','education','default','housing','loan','poutcome']\n",
    "\n",
    "num_plots = len(cols)\n",
    "fig, axes = plt.subplots(math.ceil(num_plots /4), 4, figsize=(20,7))\n",
    "axes = axes.flatten()\n",
    "i=0             # To track subplot numbers\n",
    "\n",
    "for col in cols:\n",
    "    counts = train.pivot_table(index=col, columns=train['target'], aggfunc='size', fill_value=0)\n",
    "    counts_percent = counts.div(counts.sum(axis=1), axis=0) * 100\n",
    "    counts_percent = counts_percent.reindex(train[col].value_counts().index)\n",
    "    counts_percent.plot(kind='bar', stacked=False,ax=axes[i],width=0.4,legend=False,rot=0)\n",
    "    axes[i].set_ylabel('Percentage (%)')\n",
    "        \n",
    "    i+=1\n",
    "\n",
    "# Create a single legend for all subplots\n",
    "\n",
    "handles, labels = axes[0].get_legend_handles_labels()  # Get the handles and labels from the first subplot\n",
    "fig.legend( handles, labels, loc='upper center', ncol=2, bbox_to_anchor=(0.5, 1.05), fontsize='large')\n",
    "\n",
    "# Hide any remaining unused axes\n",
    "for j in range(num_plots, len(axes)):\n",
    "    axes[j].axis('off')\n",
    "\n",
    "    \n",
    "plt.tight_layout()\n",
    "plt.show();"
   ]
  },
  {
   "cell_type": "markdown",
   "id": "5818f6d0",
   "metadata": {
    "papermill": {
     "duration": 0.020973,
     "end_time": "2024-11-10T14:08:56.447689",
     "exception": false,
     "start_time": "2024-11-10T14:08:56.426716",
     "status": "completed"
    },
    "tags": []
   },
   "source": [
    "Observations:\n",
    "* Single/divorced customers are more likely to subscribe than 'married' customers.\n",
    "* Outstanding credit default => High chances of subscription. (**Counter-intuitive!**)\n",
    "* No active housing loan => High chances of subscription.\n",
    "* Education and personal loan status have lesser impact on the target.\n",
    "* poutcome = success => High chances of target=Yes. poutcome can be an important feature. Cannot drop it. Need better techniques to impute."
   ]
  },
  {
   "cell_type": "markdown",
   "id": "7abc6b52",
   "metadata": {
    "papermill": {
     "duration": 0.020726,
     "end_time": "2024-11-10T14:08:56.489618",
     "exception": false,
     "start_time": "2024-11-10T14:08:56.468892",
     "status": "completed"
    },
    "tags": []
   },
   "source": [
    "**Contact month and date**"
   ]
  },
  {
   "cell_type": "code",
   "execution_count": 17,
   "id": "5ad9254b",
   "metadata": {
    "execution": {
     "iopub.execute_input": "2024-11-10T14:08:56.535674Z",
     "iopub.status.busy": "2024-11-10T14:08:56.534548Z",
     "iopub.status.idle": "2024-11-10T14:08:57.061503Z",
     "shell.execute_reply": "2024-11-10T14:08:57.060470Z"
    },
    "papermill": {
     "duration": 0.552483,
     "end_time": "2024-11-10T14:08:57.063601",
     "exception": false,
     "start_time": "2024-11-10T14:08:56.511118",
     "status": "completed"
    },
    "tags": []
   },
   "outputs": [
    {
     "data": {
      "image/png": "[encoded data removed]",
      "text/plain": [
       "<Figure size 1000x300 with 2 Axes>"
      ]
     },
     "metadata": {},
     "output_type": "display_data"
    }
   ],
   "source": [
    "cols = ['month','day']\n",
    "\n",
    "num_plots = len(cols)\n",
    "fig, axes = plt.subplots(1,2, figsize=(10,3))\n",
    "axes = axes.flatten()\n",
    "i=0             # To track subplot numbers\n",
    "\n",
    "for col in cols:\n",
    "    counts = train.pivot_table(index=col, columns=train['target'], aggfunc='size', fill_value=0)\n",
    "    counts_percent = counts.div(counts.sum(axis=1), axis=0) * 100\n",
    "    counts_percent = counts_percent.reindex(train[col].value_counts().index)\n",
    "    counts_percent.plot(kind='bar', stacked=False,fontsize='small',ax=axes[i],width=0.4,legend=False,rot=0)\n",
    "    axes[i].set_ylabel('Percentage (%)')\n",
    "    i+=1\n",
    "\n",
    "# Create a single legend for all subplots\n",
    "\n",
    "handles, labels = axes[0].get_legend_handles_labels()  # Get the handles and labels from the first subplot\n",
    "fig.legend( handles, labels, loc='upper center', ncol=2, bbox_to_anchor=(0.5, 1.05), fontsize='small')\n",
    "\n",
    "# Hide any remaining unused axes\n",
    "for j in range(num_plots, len(axes)):\n",
    "    axes[j].axis('off')\n",
    "\n",
    "plt.tight_layout()\n",
    "plt.show();"
   ]
  },
  {
   "cell_type": "markdown",
   "id": "fcb138e9",
   "metadata": {
    "papermill": {
     "duration": 0.021573,
     "end_time": "2024-11-10T14:08:57.107189",
     "exception": false,
     "start_time": "2024-11-10T14:08:57.085616",
     "status": "completed"
    },
    "tags": []
   },
   "source": [
    "* Customers contacted in March have higher subscription rates, followed by Oct, Sep and Dec.\n",
    "* Weekday of contact has no big impact on target."
   ]
  },
  {
   "cell_type": "markdown",
   "id": "9a416d3e",
   "metadata": {
    "papermill": {
     "duration": 0.021155,
     "end_time": "2024-11-10T14:08:57.150068",
     "exception": false,
     "start_time": "2024-11-10T14:08:57.128913",
     "status": "completed"
    },
    "tags": []
   },
   "source": [
    "**Correlation among age - balance - duration**"
   ]
  },
  {
   "cell_type": "code",
   "execution_count": 18,
   "id": "224ab03b",
   "metadata": {
    "execution": {
     "iopub.execute_input": "2024-11-10T14:08:57.195234Z",
     "iopub.status.busy": "2024-11-10T14:08:57.194456Z",
     "iopub.status.idle": "2024-11-10T14:08:57.502371Z",
     "shell.execute_reply": "2024-11-10T14:08:57.501398Z"
    },
    "papermill": {
     "duration": 0.332726,
     "end_time": "2024-11-10T14:08:57.504471",
     "exception": false,
     "start_time": "2024-11-10T14:08:57.171745",
     "status": "completed"
    },
    "tags": []
   },
   "outputs": [
    {
     "data": {
      "image/png": "[encoded data removed]",
      "text/plain": [
       "<Figure size 600x300 with 2 Axes>"
      ]
     },
     "metadata": {},
     "output_type": "display_data"
    }
   ],
   "source": [
    "plt.figure(figsize=(6, 3))\n",
    "corr = train[train.select_dtypes(exclude='object').columns].corr()\n",
    "mask = np.triu(np.ones_like(corr, dtype=bool),k=1)\n",
    "sns.heatmap(corr,annot=True,cmap='YlGn',mask=mask)\n",
    "plt.xticks(rotation=45)\n",
    "plt.show()"
   ]
  },
  {
   "cell_type": "markdown",
   "id": "d3a0d364",
   "metadata": {
    "papermill": {
     "duration": 0.021805,
     "end_time": "2024-11-10T14:08:57.550437",
     "exception": false,
     "start_time": "2024-11-10T14:08:57.528632",
     "status": "completed"
    },
    "tags": []
   },
   "source": [
    "Observations:\n",
    "* Age is least correlated with any other numerical feature.\n",
    "* 'balance' has moderate amount of correlation with duraion of call. More balance => interested to take up fixed deposit => Collect more details over call.\n",
    "* 'balance' also has good correlation with 'previous'. More balance (targetted customer) => more marketing calls from bank. "
   ]
  },
  {
   "cell_type": "markdown",
   "id": "9b5d9461",
   "metadata": {
    "papermill": {
     "duration": 0.021973,
     "end_time": "2024-11-10T14:08:57.594384",
     "exception": false,
     "start_time": "2024-11-10T14:08:57.572411",
     "status": "completed"
    },
    "tags": []
   },
   "source": [
    "# **Data Preprocessing**"
   ]
  },
  {
   "cell_type": "code",
   "execution_count": 19,
   "id": "3c72faa3",
   "metadata": {
    "execution": {
     "iopub.execute_input": "2024-11-10T14:08:57.640279Z",
     "iopub.status.busy": "2024-11-10T14:08:57.639596Z",
     "iopub.status.idle": "2024-11-10T14:08:57.653905Z",
     "shell.execute_reply": "2024-11-10T14:08:57.653123Z"
    },
    "papermill": {
     "duration": 0.039601,
     "end_time": "2024-11-10T14:08:57.656011",
     "exception": false,
     "start_time": "2024-11-10T14:08:57.616410",
     "status": "completed"
    },
    "tags": []
   },
   "outputs": [],
   "source": [
    "# Separating out features and target variable from input data\n",
    "\n",
    "X = train.drop(['target'],axis=1)\n",
    "y = train['target'].map({'no':0,'yes':1})"
   ]
  },
  {
   "cell_type": "code",
   "execution_count": 20,
   "id": "ff8e1881",
   "metadata": {
    "execution": {
     "iopub.execute_input": "2024-11-10T14:08:57.701822Z",
     "iopub.status.busy": "2024-11-10T14:08:57.701208Z",
     "iopub.status.idle": "2024-11-10T14:08:57.740619Z",
     "shell.execute_reply": "2024-11-10T14:08:57.739789Z"
    },
    "papermill": {
     "duration": 0.064633,
     "end_time": "2024-11-10T14:08:57.742853",
     "exception": false,
     "start_time": "2024-11-10T14:08:57.678220",
     "status": "completed"
    },
    "tags": []
   },
   "outputs": [],
   "source": [
    "# Splitting the dataset into training and validation sets\n",
    "\n",
    "X_train, X_val, y_train, y_val = train_test_split(X, y,\n",
    "                                                    test_size = 0.2,\n",
    "                                                    random_state=42,\n",
    "                                                     stratify = y)    # To ensure the same proportion of classes in both sets"
   ]
  },
  {
   "cell_type": "code",
   "execution_count": 21,
   "id": "c4f87520",
   "metadata": {
    "execution": {
     "iopub.execute_input": "2024-11-10T14:08:57.788870Z",
     "iopub.status.busy": "2024-11-10T14:08:57.788261Z",
     "iopub.status.idle": "2024-11-10T14:08:57.793236Z",
     "shell.execute_reply": "2024-11-10T14:08:57.792291Z"
    },
    "papermill": {
     "duration": 0.030378,
     "end_time": "2024-11-10T14:08:57.795613",
     "exception": false,
     "start_time": "2024-11-10T14:08:57.765235",
     "status": "completed"
    },
    "tags": []
   },
   "outputs": [
    {
     "name": "stdout",
     "output_type": "stream",
     "text": [
      "Training dataset shape : (31368, 16)\n",
      "Validation dataset shape : (7843, 16)\n"
     ]
    }
   ],
   "source": [
    "print('Training dataset shape :',X_train.shape)\n",
    "print('Validation dataset shape :',X_val.shape)"
   ]
  },
  {
   "cell_type": "code",
   "execution_count": 22,
   "id": "3aba5a2e",
   "metadata": {
    "execution": {
     "iopub.execute_input": "2024-11-10T14:08:57.841261Z",
     "iopub.status.busy": "2024-11-10T14:08:57.840901Z",
     "iopub.status.idle": "2024-11-10T14:08:57.863349Z",
     "shell.execute_reply": "2024-11-10T14:08:57.862556Z"
    },
    "papermill": {
     "duration": 0.047784,
     "end_time": "2024-11-10T14:08:57.865414",
     "exception": false,
     "start_time": "2024-11-10T14:08:57.817630",
     "status": "completed"
    },
    "tags": []
   },
   "outputs": [],
   "source": [
    "# Segregating numerical and categorical column names\n",
    "\n",
    "num_cols = X_train.select_dtypes(exclude = ['object']).columns\n",
    "cat_cols = X_train.select_dtypes(include = ['object']).columns"
   ]
  },
  {
   "cell_type": "code",
   "execution_count": 23,
   "id": "0138ee58",
   "metadata": {
    "execution": {
     "iopub.execute_input": "2024-11-10T14:08:57.911388Z",
     "iopub.status.busy": "2024-11-10T14:08:57.910671Z",
     "iopub.status.idle": "2024-11-10T14:08:57.916582Z",
     "shell.execute_reply": "2024-11-10T14:08:57.915629Z"
    },
    "papermill": {
     "duration": 0.030883,
     "end_time": "2024-11-10T14:08:57.918545",
     "exception": false,
     "start_time": "2024-11-10T14:08:57.887662",
     "status": "completed"
    },
    "tags": []
   },
   "outputs": [],
   "source": [
    "# Numerical pipeline for imputation & scaling of numerical columns\n",
    "num_pipe = Pipeline([\n",
    "                        ('scaler', StandardScaler())\n",
    "                    ])\n",
    "\n",
    "# Categorical pipeline for imputation & encoding of categorical columns\n",
    "\n",
    "cat_pipe = Pipeline([\n",
    "                        ('imputer', SimpleImputer(strategy = 'constant',fill_value='Missing')),\n",
    "                        ('encoder',OneHotEncoder(sparse_output=False,handle_unknown = 'ignore'))\n",
    "                    ])\n",
    "\n",
    "# ColumnTransformer to apply the above pipelines\n",
    "preprocessor = ColumnTransformer([\n",
    "                                    ('numerical', num_pipe, num_cols),\n",
    "                                    ('categorical', cat_pipe, cat_cols)\n",
    "                                ])"
   ]
  },
  {
   "cell_type": "markdown",
   "id": "3e9ea1ae",
   "metadata": {
    "papermill": {
     "duration": 0.021532,
     "end_time": "2024-11-10T14:08:57.962173",
     "exception": false,
     "start_time": "2024-11-10T14:08:57.940641",
     "status": "completed"
    },
    "tags": []
   },
   "source": [
    "Iterative Imputer captures complex relationships between features. This approach led to an increase in model's F1-score, demonstrating its effectiveness over SimpleImputer."
   ]
  },
  {
   "cell_type": "code",
   "execution_count": 24,
   "id": "7f3ebeb3",
   "metadata": {
    "execution": {
     "iopub.execute_input": "2024-11-10T14:08:58.008441Z",
     "iopub.status.busy": "2024-11-10T14:08:58.007724Z",
     "iopub.status.idle": "2024-11-10T14:08:58.252051Z",
     "shell.execute_reply": "2024-11-10T14:08:58.251186Z"
    },
    "papermill": {
     "duration": 0.270185,
     "end_time": "2024-11-10T14:08:58.254440",
     "exception": false,
     "start_time": "2024-11-10T14:08:57.984255",
     "status": "completed"
    },
    "tags": []
   },
   "outputs": [],
   "source": [
    "X_train = pd.DataFrame(preprocessor.fit_transform(X_train))\n",
    "\n",
    "X_val = pd.DataFrame(preprocessor.transform(X_val))\n",
    "X_test = pd.DataFrame(preprocessor.transform(X_test))"
   ]
  },
  {
   "cell_type": "markdown",
   "id": "9dc3d197",
   "metadata": {
    "papermill": {
     "duration": 0.022948,
     "end_time": "2024-11-10T14:08:58.300017",
     "exception": false,
     "start_time": "2024-11-10T14:08:58.277069",
     "status": "completed"
    },
    "tags": []
   },
   "source": [
    "All the data is now preprocessed where numerical columns are imputed + scaled and categorical columns are encoded + imputed."
   ]
  },
  {
   "cell_type": "markdown",
   "id": "9c1917b1",
   "metadata": {
    "papermill": {
     "duration": 0.021577,
     "end_time": "2024-11-10T14:08:58.344520",
     "exception": false,
     "start_time": "2024-11-10T14:08:58.322943",
     "status": "completed"
    },
    "tags": []
   },
   "source": [
    "# **Feature Engineering**"
   ]
  },
  {
   "cell_type": "code",
   "execution_count": 25,
   "id": "0db2b3ad",
   "metadata": {
    "execution": {
     "iopub.execute_input": "2024-11-10T14:08:58.390001Z",
     "iopub.status.busy": "2024-11-10T14:08:58.389389Z",
     "iopub.status.idle": "2024-11-10T14:08:58.395696Z",
     "shell.execute_reply": "2024-11-10T14:08:58.394773Z"
    },
    "papermill": {
     "duration": 0.031333,
     "end_time": "2024-11-10T14:08:58.397711",
     "exception": false,
     "start_time": "2024-11-10T14:08:58.366378",
     "status": "completed"
    },
    "tags": []
   },
   "outputs": [
    {
     "data": {
      "text/plain": [
       "(31368, 57)"
      ]
     },
     "execution_count": 25,
     "metadata": {},
     "output_type": "execute_result"
    }
   ],
   "source": [
    "X_train.shape"
   ]
  },
  {
   "cell_type": "code",
   "execution_count": 26,
   "id": "14349bc1",
   "metadata": {
    "execution": {
     "iopub.execute_input": "2024-11-10T14:08:58.443107Z",
     "iopub.status.busy": "2024-11-10T14:08:58.442724Z",
     "iopub.status.idle": "2024-11-10T14:08:58.447163Z",
     "shell.execute_reply": "2024-11-10T14:08:58.446295Z"
    },
    "papermill": {
     "duration": 0.029466,
     "end_time": "2024-11-10T14:08:58.449222",
     "exception": false,
     "start_time": "2024-11-10T14:08:58.419756",
     "status": "completed"
    },
    "tags": []
   },
   "outputs": [],
   "source": [
    "#from sklearn.feature_selection import SelectKBest, chi2, mutual_info_classif, f_classif\n",
    "\n",
    "# selector = SelectKBest(mutual_info_classif, \n",
    "#                        k=47)\n",
    "\n",
    "# X_train_selected = selector.fit_transform(X_train,y_train)\n",
    "# X_val_selected = selector.transform(X_val)\n",
    "# X_test_selected = selector.transform(X_test)\n",
    "\n",
    "# X_train_selected = pd.DataFrame(X_train_selected, columns = X_train.columns[selector.get_support()])\n",
    "# X_val_selected = pd.DataFrame(X_val_selected, columns = X_train.columns[selector.get_support()])\n",
    "# X_test_selected = pd.DataFrame(X_test_selected, columns = X_train.columns[selector.get_support()])"
   ]
  },
  {
   "cell_type": "markdown",
   "id": "01eb14d2",
   "metadata": {
    "papermill": {
     "duration": 0.02205,
     "end_time": "2024-11-10T14:08:58.493270",
     "exception": false,
     "start_time": "2024-11-10T14:08:58.471220",
     "status": "completed"
    },
    "tags": []
   },
   "source": [
    "SelectKBest does not have random_state parameter. Could not ensure reproducibility of the feature selection."
   ]
  },
  {
   "cell_type": "code",
   "execution_count": 27,
   "id": "5546d5b4",
   "metadata": {
    "execution": {
     "iopub.execute_input": "2024-11-10T14:08:58.540338Z",
     "iopub.status.busy": "2024-11-10T14:08:58.539958Z",
     "iopub.status.idle": "2024-11-10T14:08:58.544294Z",
     "shell.execute_reply": "2024-11-10T14:08:58.543332Z"
    },
    "papermill": {
     "duration": 0.031048,
     "end_time": "2024-11-10T14:08:58.546280",
     "exception": false,
     "start_time": "2024-11-10T14:08:58.515232",
     "status": "completed"
    },
    "tags": []
   },
   "outputs": [],
   "source": [
    "# selector = SelectFromModel(RandomForestClassifier(random_state=42), threshold='mean')\n",
    "\n",
    "# selector = SelectFromModel(Lasso(alpha=0.01))\n",
    "\n",
    "# selector = RFE(SGDClassifier(class_weight='balanced',\n",
    "#                            learning_rate='adaptive',\n",
    "#                            eta0=0.1,\n",
    "#                            random_state=42),\n",
    "#               n_features_to_select = 30)"
   ]
  },
  {
   "cell_type": "markdown",
   "id": "52aecd7d",
   "metadata": {
    "papermill": {
     "duration": 0.021633,
     "end_time": "2024-11-10T14:08:58.589877",
     "exception": false,
     "start_time": "2024-11-10T14:08:58.568244",
     "status": "completed"
    },
    "tags": []
   },
   "source": [
    "Tried 3 different models (RandomForest, Lasso and SGD) for feature selection. But the validation scores obtained were below 0.757."
   ]
  },
  {
   "cell_type": "code",
   "execution_count": 28,
   "id": "247503d6",
   "metadata": {
    "execution": {
     "iopub.execute_input": "2024-11-10T14:08:58.635718Z",
     "iopub.status.busy": "2024-11-10T14:08:58.634899Z",
     "iopub.status.idle": "2024-11-10T14:08:59.306294Z",
     "shell.execute_reply": "2024-11-10T14:08:59.305253Z"
    },
    "papermill": {
     "duration": 0.696935,
     "end_time": "2024-11-10T14:08:59.308858",
     "exception": false,
     "start_time": "2024-11-10T14:08:58.611923",
     "status": "completed"
    },
    "tags": []
   },
   "outputs": [],
   "source": [
    "selector = SelectFromModel(XGBClassifier(random_state=42))\n",
    "\n",
    "X_train_selected = selector.fit_transform(X_train,y_train)\n",
    "X_val_selected = selector.transform(X_val)\n",
    "X_test_selected = selector.transform(X_test)\n",
    "\n",
    "X_train_selected = pd.DataFrame(X_train_selected, columns = X_train.columns[selector.get_support()])\n",
    "X_val_selected = pd.DataFrame(X_val_selected, columns = X_train.columns[selector.get_support()])\n",
    "X_test_selected = pd.DataFrame(X_test_selected, columns = X_train.columns[selector.get_support()])"
   ]
  },
  {
   "cell_type": "markdown",
   "id": "ad408a24",
   "metadata": {
    "papermill": {
     "duration": 0.02184,
     "end_time": "2024-11-10T14:08:59.353300",
     "exception": false,
     "start_time": "2024-11-10T14:08:59.331460",
     "status": "completed"
    },
    "tags": []
   },
   "source": [
    "SelectFromModel with XGBClassifier(random_state=42) allows for automatic feature selection based on feature importance scores derived from the model. This approach increased f1-scores upto 0.76"
   ]
  },
  {
   "cell_type": "markdown",
   "id": "692695b3",
   "metadata": {
    "papermill": {
     "duration": 0.021812,
     "end_time": "2024-11-10T14:08:59.397444",
     "exception": false,
     "start_time": "2024-11-10T14:08:59.375632",
     "status": "completed"
    },
    "tags": []
   },
   "source": [
    "# **Modeling**"
   ]
  },
  {
   "cell_type": "markdown",
   "id": "e888f4cb",
   "metadata": {
    "papermill": {
     "duration": 0.021779,
     "end_time": "2024-11-10T14:08:59.441220",
     "exception": false,
     "start_time": "2024-11-10T14:08:59.419441",
     "status": "completed"
    },
    "tags": []
   },
   "source": [
    "In this section, six different machine learning algorithms are being evaluated.\n",
    "* Logistic Regression\n",
    "* Stochastic Gradient Descent (SGD) Classifier\n",
    "* Decision Tree Classifier\n",
    "* Random Forest Classifier\n",
    "* Gradient Boosting Classifier and \n",
    "* XGBoost Classifier. \n",
    "\n",
    "Each model offers unique advantages: \n",
    "* Logistic Regression provides simple and easy interpretability while being fast.\n",
    "* SGD is efficient for large datasets. It also accepts L1 and L2 regularization.\n",
    "* Decision Trees can model non-linear relationships between features.\n",
    "* Random Forest improves accuracy through ensemble learning.\n",
    "* Gradient Boosting and XGBoost enhance predictive performance by iteratively correcting errors in previous models. \n",
    "\n",
    "By testing these models sequentially, we aim to identify the best performer for prediction."
   ]
  },
  {
   "cell_type": "code",
   "execution_count": 29,
   "id": "c3a23ed3",
   "metadata": {
    "execution": {
     "iopub.execute_input": "2024-11-10T14:08:59.487938Z",
     "iopub.status.busy": "2024-11-10T14:08:59.486954Z",
     "iopub.status.idle": "2024-11-10T14:08:59.492804Z",
     "shell.execute_reply": "2024-11-10T14:08:59.491857Z"
    },
    "papermill": {
     "duration": 0.031567,
     "end_time": "2024-11-10T14:08:59.494831",
     "exception": false,
     "start_time": "2024-11-10T14:08:59.463264",
     "status": "completed"
    },
    "tags": []
   },
   "outputs": [],
   "source": [
    "# Function to fit a model on training set\n",
    "\n",
    "def fit_model(model,X_train, X_val, y_train, y_val):\n",
    "    \n",
    "    fitted_model = model.fit(X_train, y_train)\n",
    "    \n",
    "    y_train_pred = fitted_model.predict(X_train)\n",
    "    y_val_pred = fitted_model.predict(X_val)\n",
    "    \n",
    "    train_score = f1_score(y_train, y_train_pred,average='macro')\n",
    "    val_score = f1_score(y_val, y_val_pred,average='macro')\n",
    "    \n",
    "    return (fitted_model,train_score,val_score)"
   ]
  },
  {
   "cell_type": "code",
   "execution_count": 30,
   "id": "b514105c",
   "metadata": {
    "execution": {
     "iopub.execute_input": "2024-11-10T14:08:59.542128Z",
     "iopub.status.busy": "2024-11-10T14:08:59.541322Z",
     "iopub.status.idle": "2024-11-10T14:08:59.547976Z",
     "shell.execute_reply": "2024-11-10T14:08:59.547039Z"
    },
    "papermill": {
     "duration": 0.033128,
     "end_time": "2024-11-10T14:08:59.550075",
     "exception": false,
     "start_time": "2024-11-10T14:08:59.516947",
     "status": "completed"
    },
    "tags": []
   },
   "outputs": [],
   "source": [
    "# Funtion to tune a model on a parameter grid\n",
    "\n",
    "def fit_hpt_model(model,param_grid,X_train, X_val, y_train, y_val):\n",
    "    \n",
    "    f1_scorer = make_scorer(f1_score, average='macro')\n",
    "\n",
    "    grid_search_cv = GridSearchCV(model,\n",
    "                                 param_grid,\n",
    "                                 scoring=f1_scorer,\n",
    "                                 n_jobs=-1)\n",
    "    grid_search_cv.fit(X_train,y_train)\n",
    "    \n",
    "    print(\"Best parameters:\", grid_search_cv.best_params_)\n",
    "    \n",
    "    y_train_pred = grid_search_cv.best_estimator_.predict(X_train)\n",
    "    y_val_pred = grid_search_cv.best_estimator_.predict(X_val)\n",
    "    \n",
    "    train_score = f1_score(y_train, y_train_pred,average='macro')\n",
    "    val_score = f1_score(y_val, y_val_pred,average='macro')\n",
    "    \n",
    "    print('Training F1-score ', train_score)\n",
    "    print('Validation F1-score ', val_score)\n",
    "    \n",
    "    return (grid_search_cv.best_estimator_,train_score,val_score)"
   ]
  },
  {
   "cell_type": "code",
   "execution_count": 31,
   "id": "dce1ee6a",
   "metadata": {
    "execution": {
     "iopub.execute_input": "2024-11-10T14:08:59.595682Z",
     "iopub.status.busy": "2024-11-10T14:08:59.595328Z",
     "iopub.status.idle": "2024-11-10T14:08:59.600658Z",
     "shell.execute_reply": "2024-11-10T14:08:59.599830Z"
    },
    "papermill": {
     "duration": 0.030598,
     "end_time": "2024-11-10T14:08:59.602667",
     "exception": false,
     "start_time": "2024-11-10T14:08:59.572069",
     "status": "completed"
    },
    "tags": []
   },
   "outputs": [],
   "source": [
    "# Dataframe to collect validation scores of various models\n",
    "\n",
    "scores_summary = pd.DataFrame(columns=[\"Model\", \"Validation F1 score\"])"
   ]
  },
  {
   "cell_type": "code",
   "execution_count": 32,
   "id": "44c8cb19",
   "metadata": {
    "execution": {
     "iopub.execute_input": "2024-11-10T14:08:59.648382Z",
     "iopub.status.busy": "2024-11-10T14:08:59.648022Z",
     "iopub.status.idle": "2024-11-10T14:08:59.676532Z",
     "shell.execute_reply": "2024-11-10T14:08:59.675360Z"
    },
    "papermill": {
     "duration": 0.053626,
     "end_time": "2024-11-10T14:08:59.678693",
     "exception": false,
     "start_time": "2024-11-10T14:08:59.625067",
     "status": "completed"
    },
    "tags": []
   },
   "outputs": [
    {
     "name": "stdout",
     "output_type": "stream",
     "text": [
      "Training F1-score  0.4249594834481936\n",
      "Validation F1-score  0.4396838159112511\n"
     ]
    }
   ],
   "source": [
    "dummy_model = DummyClassifier(strategy='uniform',random_state=42)\n",
    "\n",
    "(dummy_model,train_score,val_score) = fit_model(dummy_model,X_train, X_val, y_train, y_val)\n",
    "\n",
    "print('Training F1-score ', train_score)\n",
    "print('Validation F1-score ', val_score)\n",
    "\n",
    "scores_summary.loc[len(scores_summary)] = [\"Dummy\",val_score]"
   ]
  },
  {
   "cell_type": "markdown",
   "id": "1c27611f",
   "metadata": {
    "papermill": {
     "duration": 0.021974,
     "end_time": "2024-11-10T14:08:59.723313",
     "exception": false,
     "start_time": "2024-11-10T14:08:59.701339",
     "status": "completed"
    },
    "tags": []
   },
   "source": [
    "## **Logistic Regression**"
   ]
  },
  {
   "cell_type": "code",
   "execution_count": 33,
   "id": "c3d1730e",
   "metadata": {
    "execution": {
     "iopub.execute_input": "2024-11-10T14:08:59.769184Z",
     "iopub.status.busy": "2024-11-10T14:08:59.768769Z",
     "iopub.status.idle": "2024-11-10T14:08:59.903193Z",
     "shell.execute_reply": "2024-11-10T14:08:59.902078Z"
    },
    "papermill": {
     "duration": 0.16057,
     "end_time": "2024-11-10T14:08:59.905962",
     "exception": false,
     "start_time": "2024-11-10T14:08:59.745392",
     "status": "completed"
    },
    "tags": []
   },
   "outputs": [
    {
     "name": "stdout",
     "output_type": "stream",
     "text": [
      "Training F1-score  0.6125708156598898\n",
      "Validation F1-score  0.6269785566480315\n"
     ]
    }
   ],
   "source": [
    "logistic = LogisticRegression(max_iter=1000,\n",
    "                            random_state=42)\n",
    "\n",
    "(logistic_model,train_score,val_score) = fit_model(logistic,X_train_selected, X_val_selected, y_train, y_val)\n",
    "\n",
    "print('Training F1-score ', train_score)\n",
    "print('Validation F1-score ', val_score)"
   ]
  },
  {
   "cell_type": "code",
   "execution_count": 34,
   "id": "d8bee622",
   "metadata": {
    "execution": {
     "iopub.execute_input": "2024-11-10T14:08:59.983022Z",
     "iopub.status.busy": "2024-11-10T14:08:59.982477Z",
     "iopub.status.idle": "2024-11-10T14:09:06.197584Z",
     "shell.execute_reply": "2024-11-10T14:09:06.196357Z"
    },
    "papermill": {
     "duration": 6.256547,
     "end_time": "2024-11-10T14:09:06.200238",
     "exception": false,
     "start_time": "2024-11-10T14:08:59.943691",
     "status": "completed"
    },
    "tags": []
   },
   "outputs": [
    {
     "name": "stdout",
     "output_type": "stream",
     "text": [
      "Best parameters: {'C': 1, 'class_weight': 'balanced', 'solver': 'lbfgs'}\n",
      "Training F1-score  0.7418421498102146\n",
      "Validation F1-score  0.7467274427302478\n"
     ]
    }
   ],
   "source": [
    "# Hyper parameter tuning for regularization term\n",
    "\n",
    "param_grid ={'C': [0.0001, 0.001, 0.01, 0.1, 1],\n",
    "            'class_weight' : [None,'balanced'],\n",
    "            'solver':['lbfgs','saga']}\n",
    "\n",
    "(logistic_hpt_model,train_score,val_score) = fit_hpt_model(logistic, param_grid, \n",
    "                                                           X_train_selected, X_val_selected, y_train, y_val)\n",
    "\n",
    "scores_summary.loc[len(scores_summary)] = [\"Logistic\",val_score]"
   ]
  },
  {
   "cell_type": "markdown",
   "id": "71015c67",
   "metadata": {
    "papermill": {
     "duration": 0.042433,
     "end_time": "2024-11-10T14:09:06.301276",
     "exception": false,
     "start_time": "2024-11-10T14:09:06.258843",
     "status": "completed"
    },
    "tags": []
   },
   "source": [
    "* With hyper-parameter tuning, f1-score improved by 19%.\n",
    "* Could not reach minimum required value of 0.75."
   ]
  },
  {
   "cell_type": "markdown",
   "id": "01e5622d",
   "metadata": {
    "papermill": {
     "duration": 0.022335,
     "end_time": "2024-11-10T14:09:06.346672",
     "exception": false,
     "start_time": "2024-11-10T14:09:06.324337",
     "status": "completed"
    },
    "tags": []
   },
   "source": [
    "## **SGD Classifier**"
   ]
  },
  {
   "cell_type": "code",
   "execution_count": 35,
   "id": "49048f8b",
   "metadata": {
    "execution": {
     "iopub.execute_input": "2024-11-10T14:09:06.394045Z",
     "iopub.status.busy": "2024-11-10T14:09:06.393471Z",
     "iopub.status.idle": "2024-11-10T14:09:06.539308Z",
     "shell.execute_reply": "2024-11-10T14:09:06.538336Z"
    },
    "papermill": {
     "duration": 0.172476,
     "end_time": "2024-11-10T14:09:06.541917",
     "exception": false,
     "start_time": "2024-11-10T14:09:06.369441",
     "status": "completed"
    },
    "tags": []
   },
   "outputs": [
    {
     "name": "stdout",
     "output_type": "stream",
     "text": [
      "Training F1-score  0.7522817321390891\n",
      "Validation F1-score  0.7523803729969861\n"
     ]
    }
   ],
   "source": [
    "sgd  = SGDClassifier(class_weight='balanced',\n",
    "                    random_state=42)\n",
    "\n",
    "(sgd_model,train_score,val_score) = fit_model(sgd,X_train_selected, X_val_selected, y_train, y_val)\n",
    "\n",
    "print('Training F1-score ', train_score)\n",
    "print('Validation F1-score ', val_score)"
   ]
  },
  {
   "cell_type": "code",
   "execution_count": 36,
   "id": "686299a3",
   "metadata": {
    "execution": {
     "iopub.execute_input": "2024-11-10T14:09:06.648527Z",
     "iopub.status.busy": "2024-11-10T14:09:06.648121Z",
     "iopub.status.idle": "2024-11-10T14:09:42.846587Z",
     "shell.execute_reply": "2024-11-10T14:09:42.836535Z"
    },
    "papermill": {
     "duration": 36.271687,
     "end_time": "2024-11-10T14:09:42.880755",
     "exception": false,
     "start_time": "2024-11-10T14:09:06.609068",
     "status": "completed"
    },
    "tags": []
   },
   "outputs": [
    {
     "name": "stdout",
     "output_type": "stream",
     "text": [
      "Best parameters: {'alpha': 0.001, 'eta0': 0.01, 'learning_rate': 'adaptive', 'loss': 'hinge', 'penalty': 'elasticnet'}\n",
      "Training F1-score  0.7560012651284251\n",
      "Validation F1-score  0.7605599164232768\n"
     ]
    }
   ],
   "source": [
    "# Hyper parameter tuning for regularization term\n",
    "\n",
    "param_grid = {\n",
    "                'alpha': [0.0001, 0.001, 0.01, 0.1],\n",
    "                'learning_rate' : ['constant','adaptive'],\n",
    "                'eta0':[0.01,0.1],\n",
    "                'loss': ['hinge','log_loss','perceptron'],\n",
    "                'penalty': ['l2','l1','elasticnet']\n",
    "            }\n",
    "\n",
    "(sgd_hpt_model,train_score,val_score) = fit_hpt_model(sgd, param_grid,\n",
    "                                                      X_train_selected, X_val_selected, y_train, y_val)\n",
    "\n",
    "scores_summary.loc[len(scores_summary)] = [\"SGD\",val_score]"
   ]
  },
  {
   "cell_type": "markdown",
   "id": "9c2c739c",
   "metadata": {
    "papermill": {
     "duration": 0.024639,
     "end_time": "2024-11-10T14:09:42.943077",
     "exception": false,
     "start_time": "2024-11-10T14:09:42.918438",
     "status": "completed"
    },
    "tags": []
   },
   "source": [
    "* f1-score on full dataset : 0.74.\n",
    "* f1-score on selected features : 0.75\n",
    "* f1-score with Hyper parameter tuning : 0.76\n",
    "* SGD classifier is exhibiting its flexibility in optimizing various loss functions, leading to better generalization."
   ]
  },
  {
   "cell_type": "markdown",
   "id": "380e79a7",
   "metadata": {
    "papermill": {
     "duration": 0.02256,
     "end_time": "2024-11-10T14:09:42.988015",
     "exception": false,
     "start_time": "2024-11-10T14:09:42.965455",
     "status": "completed"
    },
    "tags": []
   },
   "source": [
    "## **Decision Tree Classifier**"
   ]
  },
  {
   "cell_type": "code",
   "execution_count": 37,
   "id": "bf38c52e",
   "metadata": {
    "execution": {
     "iopub.execute_input": "2024-11-10T14:09:43.034619Z",
     "iopub.status.busy": "2024-11-10T14:09:43.034224Z",
     "iopub.status.idle": "2024-11-10T14:09:43.545470Z",
     "shell.execute_reply": "2024-11-10T14:09:43.544357Z"
    },
    "papermill": {
     "duration": 0.537289,
     "end_time": "2024-11-10T14:09:43.547751",
     "exception": false,
     "start_time": "2024-11-10T14:09:43.010462",
     "status": "completed"
    },
    "tags": []
   },
   "outputs": [
    {
     "name": "stdout",
     "output_type": "stream",
     "text": [
      "Training F1-score  1.0\n",
      "Validation F1-score  0.687502967068893\n"
     ]
    }
   ],
   "source": [
    "dt = DecisionTreeClassifier(random_state=42)\n",
    "\n",
    "(dt_model,train_score,val_score) = fit_model(dt, X_train, X_val, y_train, y_val)\n",
    "\n",
    "print('Training F1-score ', train_score)\n",
    "print('Validation F1-score ', val_score)"
   ]
  },
  {
   "cell_type": "markdown",
   "id": "0ef380a8",
   "metadata": {
    "papermill": {
     "duration": 0.031326,
     "end_time": "2024-11-10T14:09:43.606324",
     "exception": false,
     "start_time": "2024-11-10T14:09:43.574998",
     "status": "completed"
    },
    "tags": []
   },
   "source": [
    "* Default parameter settings of Decision Tree Classifier are overfitting. Necessary to tune."
   ]
  },
  {
   "cell_type": "code",
   "execution_count": 38,
   "id": "84b87eb0",
   "metadata": {
    "execution": {
     "iopub.execute_input": "2024-11-10T14:09:43.662904Z",
     "iopub.status.busy": "2024-11-10T14:09:43.662500Z",
     "iopub.status.idle": "2024-11-10T14:10:10.225223Z",
     "shell.execute_reply": "2024-11-10T14:10:10.224126Z"
    },
    "papermill": {
     "duration": 26.591037,
     "end_time": "2024-11-10T14:10:10.227441",
     "exception": false,
     "start_time": "2024-11-10T14:09:43.636404",
     "status": "completed"
    },
    "tags": []
   },
   "outputs": [
    {
     "name": "stdout",
     "output_type": "stream",
     "text": [
      "Best parameters: {'criterion': 'gini', 'max_depth': 2, 'max_features': None, 'min_samples_leaf': 1, 'min_samples_split': 2}\n",
      "Training F1-score  0.7359177824031062\n",
      "Validation F1-score  0.7442645481362296\n"
     ]
    }
   ],
   "source": [
    "param_grid = {\n",
    "    'criterion': ['gini', 'entropy'],\n",
    "    'max_depth': [ 2, 5, 10],  \n",
    "    'min_samples_split': [2, 5, 10],              \n",
    "    'min_samples_leaf': [1, 2, 5, 10],            \n",
    "    'max_features': [None, 'sqrt', 'log2']        \n",
    "}\n",
    "\n",
    "(dt_hpt_model,train_score,val_score) = fit_hpt_model(dt, param_grid,\n",
    "                                                      X_train, X_val, y_train, y_val)\n",
    "\n",
    "scores_summary.loc[len(scores_summary)] = [\"Decision Tree\",val_score]"
   ]
  },
  {
   "cell_type": "markdown",
   "id": "dc921551",
   "metadata": {
    "papermill": {
     "duration": 0.022426,
     "end_time": "2024-11-10T14:10:10.272973",
     "exception": false,
     "start_time": "2024-11-10T14:10:10.250547",
     "status": "completed"
    },
    "tags": []
   },
   "source": [
    "* The above best parameters could control the overfitting efficiently.\n",
    "* But, low value of Validation f1-score.\n",
    "* Need to check ensemble methods that combines the predictions of multiple decision trees to enhance overall performance."
   ]
  },
  {
   "cell_type": "markdown",
   "id": "9916339f",
   "metadata": {
    "papermill": {
     "duration": 0.022358,
     "end_time": "2024-11-10T14:10:10.317857",
     "exception": false,
     "start_time": "2024-11-10T14:10:10.295499",
     "status": "completed"
    },
    "tags": []
   },
   "source": [
    "## **Random Forest Classifier**"
   ]
  },
  {
   "cell_type": "code",
   "execution_count": 39,
   "id": "9a6561ba",
   "metadata": {
    "execution": {
     "iopub.execute_input": "2024-11-10T14:10:10.364562Z",
     "iopub.status.busy": "2024-11-10T14:10:10.364177Z",
     "iopub.status.idle": "2024-11-10T14:10:12.956976Z",
     "shell.execute_reply": "2024-11-10T14:10:12.955887Z"
    },
    "papermill": {
     "duration": 2.618824,
     "end_time": "2024-11-10T14:10:12.959183",
     "exception": false,
     "start_time": "2024-11-10T14:10:10.340359",
     "status": "completed"
    },
    "tags": []
   },
   "outputs": [
    {
     "name": "stdout",
     "output_type": "stream",
     "text": [
      "Training F1-score  1.0\n",
      "Validation F1-score  0.6945274379504003\n"
     ]
    }
   ],
   "source": [
    "rfc = RandomForestClassifier(random_state=42,\n",
    "                             class_weight = 'balanced',\n",
    "                             n_jobs=-1)\n",
    "\n",
    "(rfc_model,train_score,val_score) = fit_model(rfc, X_train, X_val, y_train, y_val)\n",
    "\n",
    "print('Training F1-score ', train_score)\n",
    "print('Validation F1-score ', val_score)"
   ]
  },
  {
   "cell_type": "markdown",
   "id": "e0de08a5",
   "metadata": {
    "papermill": {
     "duration": 0.022416,
     "end_time": "2024-11-10T14:10:13.004477",
     "exception": false,
     "start_time": "2024-11-10T14:10:12.982061",
     "status": "completed"
    },
    "tags": []
   },
   "source": [
    "* Default parameter settings are overfitting."
   ]
  },
  {
   "cell_type": "code",
   "execution_count": 40,
   "id": "70dd0af1",
   "metadata": {
    "execution": {
     "iopub.execute_input": "2024-11-10T14:10:13.052500Z",
     "iopub.status.busy": "2024-11-10T14:10:13.051692Z",
     "iopub.status.idle": "2024-11-10T14:10:28.135380Z",
     "shell.execute_reply": "2024-11-10T14:10:28.134453Z"
    },
    "papermill": {
     "duration": 15.110033,
     "end_time": "2024-11-10T14:10:28.137548",
     "exception": false,
     "start_time": "2024-11-10T14:10:13.027515",
     "status": "completed"
    },
    "tags": []
   },
   "outputs": [
    {
     "name": "stdout",
     "output_type": "stream",
     "text": [
      "Training F1-score  0.7997983188703427\n",
      "Validation F1-score  0.7638113736087166\n"
     ]
    }
   ],
   "source": [
    "# param_grid = {\n",
    "#     'n_estimators': [1000, 2000],            \n",
    "#     'max_depth': [ 5, 10, 15],                          \n",
    "#     'min_samples_split': [10, 15, 20],               \n",
    "#     'min_samples_leaf': [1, 2, 3], \n",
    "# }\n",
    "\n",
    "# (rfc_hpt_model,train_score,val_score) = fit_hpt_model(rfc, param_grid,\n",
    "#                                                       X_train, X_val, y_train, y_val)\n",
    "\n",
    "rfc = RandomForestClassifier(random_state=42,\n",
    "                             n_estimators = 1000,\n",
    "                             max_depth=15,\n",
    "                             min_samples_split = 15,\n",
    "                             min_samples_leaf = 3,\n",
    "                             class_weight = 'balanced',\n",
    "                             n_jobs=-1)\n",
    "\n",
    "(rfc_model,train_score,val_score) = fit_model(rfc,X_train, X_val, y_train, y_val)\n",
    "\n",
    "print('Training F1-score ', train_score)\n",
    "print('Validation F1-score ', val_score)\n",
    "\n",
    "scores_summary.loc[len(scores_summary)] = [\"Random Forest\",val_score]"
   ]
  },
  {
   "cell_type": "markdown",
   "id": "86b62b0d",
   "metadata": {
    "papermill": {
     "duration": 0.022408,
     "end_time": "2024-11-10T14:10:28.183380",
     "exception": false,
     "start_time": "2024-11-10T14:10:28.160972",
     "status": "completed"
    },
    "tags": []
   },
   "source": [
    "* Satisfactory validation score by Random Forest.\n",
    "* Further exploring Gradient Boosting and XGBoost for any additional improvements. These models have the potential to refine predictions by focusing on correcting errors."
   ]
  },
  {
   "cell_type": "markdown",
   "id": "9a158476",
   "metadata": {
    "papermill": {
     "duration": 0.022592,
     "end_time": "2024-11-10T14:10:28.228505",
     "exception": false,
     "start_time": "2024-11-10T14:10:28.205913",
     "status": "completed"
    },
    "tags": []
   },
   "source": [
    "## **Gradient Boosting Classifier**"
   ]
  },
  {
   "cell_type": "code",
   "execution_count": 41,
   "id": "df75b565",
   "metadata": {
    "execution": {
     "iopub.execute_input": "2024-11-10T14:10:28.275609Z",
     "iopub.status.busy": "2024-11-10T14:10:28.274698Z",
     "iopub.status.idle": "2024-11-10T14:10:49.695415Z",
     "shell.execute_reply": "2024-11-10T14:10:49.694324Z"
    },
    "papermill": {
     "duration": 21.446524,
     "end_time": "2024-11-10T14:10:49.697580",
     "exception": false,
     "start_time": "2024-11-10T14:10:28.251056",
     "status": "completed"
    },
    "tags": []
   },
   "outputs": [
    {
     "name": "stdout",
     "output_type": "stream",
     "text": [
      "Training F1-score  0.7860095989587629\n",
      "Validation F1-score  0.7344317328217538\n"
     ]
    }
   ],
   "source": [
    "gbm = GradientBoostingClassifier(n_estimators=300,\n",
    "                                 random_state=42)\n",
    "\n",
    "(gbm_model,train_score,val_score) = fit_model(gbm, X_train, X_val, y_train, y_val)\n",
    "\n",
    "print('Training F1-score ', train_score)\n",
    "print('Validation F1-score ', val_score)\n",
    "\n",
    "scores_summary.loc[len(scores_summary)] = [\"Gradient Boost\",val_score]"
   ]
  },
  {
   "cell_type": "code",
   "execution_count": 42,
   "id": "7a2eb136",
   "metadata": {
    "execution": {
     "iopub.execute_input": "2024-11-10T14:10:49.746201Z",
     "iopub.status.busy": "2024-11-10T14:10:49.745749Z",
     "iopub.status.idle": "2024-11-10T14:10:49.750343Z",
     "shell.execute_reply": "2024-11-10T14:10:49.749260Z"
    },
    "papermill": {
     "duration": 0.031172,
     "end_time": "2024-11-10T14:10:49.752306",
     "exception": false,
     "start_time": "2024-11-10T14:10:49.721134",
     "status": "completed"
    },
    "tags": []
   },
   "outputs": [],
   "source": [
    "# param_grid = {\n",
    "#     'n_estimators': [100, 200, 300],\n",
    "#     'learning_rate': [0.01, 0.1, 0.05],\n",
    "#     'max_depth': [2, 3, 5],\n",
    "#     'subsample': [0.8, 1.0]  # Subsampling to reduce overfitting\n",
    "# }\n",
    "\n",
    "# (gbm_hpt_model,train_score,val_score) = fit_hpt_model(gbm, param_grid,\n",
    "#                                                       X_train, X_val, y_train, y_val)"
   ]
  },
  {
   "cell_type": "markdown",
   "id": "34281adf",
   "metadata": {
    "papermill": {
     "duration": 0.023234,
     "end_time": "2024-11-10T14:10:49.799366",
     "exception": false,
     "start_time": "2024-11-10T14:10:49.776132",
     "status": "completed"
    },
    "tags": []
   },
   "source": [
    "* Default parameter values are giving better score than hyper tuned parameters for Gradient Boost Classifier.\n",
    "* But Gradient Boosting does not exhibit good generalization in our dataset."
   ]
  },
  {
   "cell_type": "markdown",
   "id": "18c231aa",
   "metadata": {
    "papermill": {
     "duration": 0.022942,
     "end_time": "2024-11-10T14:10:49.845561",
     "exception": false,
     "start_time": "2024-11-10T14:10:49.822619",
     "status": "completed"
    },
    "tags": []
   },
   "source": [
    "## **XG Boost Classifier**"
   ]
  },
  {
   "cell_type": "code",
   "execution_count": 43,
   "id": "20adec0e",
   "metadata": {
    "execution": {
     "iopub.execute_input": "2024-11-10T14:10:49.894647Z",
     "iopub.status.busy": "2024-11-10T14:10:49.893613Z",
     "iopub.status.idle": "2024-11-10T14:10:49.899356Z",
     "shell.execute_reply": "2024-11-10T14:10:49.898375Z"
    },
    "papermill": {
     "duration": 0.03203,
     "end_time": "2024-11-10T14:10:49.901304",
     "exception": false,
     "start_time": "2024-11-10T14:10:49.869274",
     "status": "completed"
    },
    "tags": []
   },
   "outputs": [],
   "source": [
    "# from sklearn.model_selection import RandomizedSearchCV\n",
    "\n",
    "# xgb = XGBClassifier(random_state=42)\n",
    "\n",
    "# param_dist = {\n",
    "#     'learning_rate': [0.005, 0.01, 0.1],\n",
    "#     'n_estimators': [500, 1000, 2000],\n",
    "#     'max_depth': [3, 4, 5, 6, 7],\n",
    "#     'min_child_weight': [1, 3, 5, 7, 9],\n",
    "#     'subsample': [0.6, 0.7, 0.8, 0.9],\n",
    "#     'colsample_bytree': [0.6, 0.7, 0.8, 0.9],\n",
    "#     'gamma': [0, 0.1, 0.3, 0.5],\n",
    "#     'reg_lambda': [0, 1, 2, 3],\n",
    "#     'reg_alpha': [0, 0.5, 1, 1.5],\n",
    "#     'scale_pos_weight': [1, 2, 3]  \n",
    "# }\n",
    "\n",
    "# random_search = RandomizedSearchCV(\n",
    "#                                     xgb,\n",
    "#                                     param_distributions=param_dist,\n",
    "#                                     n_iter=100, \n",
    "#                                     scoring=make_scorer(f1_score,average='macro'),\n",
    "#                                     cv=5, \n",
    "#                                     verbose=2,\n",
    "#                                     n_jobs=-1,\n",
    "#                                     random_state=42\n",
    "#                                 )\n",
    "\n",
    "# random_search.fit(X_train, y_train)\n",
    "\n",
    "# print(\"Best Parameters:\", random_search.best_params_)\n",
    "# print(\"Best F1 Score:\", random_search.best_score_)\n",
    "\n",
    "# best_model = random_search.best_estimator_\n",
    "# y_pred = best_model.predict(X_val)\n",
    "\n",
    "# f1 = f1_score(y_val, y_pred)\n",
    "# print(\"Validation F1 Score:\", f1)"
   ]
  },
  {
   "cell_type": "code",
   "execution_count": 44,
   "id": "5920a34c",
   "metadata": {
    "execution": {
     "iopub.execute_input": "2024-11-10T14:10:49.949516Z",
     "iopub.status.busy": "2024-11-10T14:10:49.948617Z",
     "iopub.status.idle": "2024-11-10T14:11:02.777807Z",
     "shell.execute_reply": "2024-11-10T14:11:02.776835Z"
    },
    "papermill": {
     "duration": 12.855786,
     "end_time": "2024-11-10T14:11:02.780186",
     "exception": false,
     "start_time": "2024-11-10T14:10:49.924400",
     "status": "completed"
    },
    "tags": []
   },
   "outputs": [
    {
     "name": "stdout",
     "output_type": "stream",
     "text": [
      "Training F1-score  0.7894958234198275\n",
      "Validation F1-score  0.776724170222512\n"
     ]
    }
   ],
   "source": [
    "xgb = XGBClassifier(\n",
    "                    random_state=42,\n",
    "                    learning_rate=0.005,\n",
    "                    n_estimators=2300,\n",
    "                    max_depth=5,              \n",
    "                    min_child_weight=9,      \n",
    "                    subsample=0.8,\n",
    "                    colsample_bytree=0.7,\n",
    "                    gamma=0.3,\n",
    "                    reg_lambda=1.5,\n",
    "                    reg_alpha=0.7,\n",
    "                    scale_pos_weight=2.75,\n",
    "                    n_jobs=-1\n",
    "                )\n",
    "\n",
    "(xgb_model, train_score, val_score) = fit_model(xgb,X_train, X_val, y_train, y_val)\n",
    "\n",
    "print('Training F1-score ', train_score)\n",
    "print('Validation F1-score ', val_score)\n",
    "\n",
    "scores_summary.loc[len(scores_summary)] = [\"XGBoost\",val_score]"
   ]
  },
  {
   "cell_type": "markdown",
   "id": "fa62077d",
   "metadata": {
    "papermill": {
     "duration": 0.022667,
     "end_time": "2024-11-10T14:11:02.826237",
     "exception": false,
     "start_time": "2024-11-10T14:11:02.803570",
     "status": "completed"
    },
    "tags": []
   },
   "source": [
    "* XGBoost exhibits strong F1-score on the training set, indicating good performance in balancing precision and recall.\n",
    "* Validation F1-score of 0.776. Minor overfitting but good consistency."
   ]
  },
  {
   "cell_type": "markdown",
   "id": "bcc1b0a7",
   "metadata": {
    "papermill": {
     "duration": 0.022606,
     "end_time": "2024-11-10T14:11:02.871727",
     "exception": false,
     "start_time": "2024-11-10T14:11:02.849121",
     "status": "completed"
    },
    "tags": []
   },
   "source": [
    "# **Model Evaluation**"
   ]
  },
  {
   "cell_type": "markdown",
   "id": "b61f7f2b",
   "metadata": {
    "papermill": {
     "duration": 0.022765,
     "end_time": "2024-11-10T14:11:02.917909",
     "exception": false,
     "start_time": "2024-11-10T14:11:02.895144",
     "status": "completed"
    },
    "tags": []
   },
   "source": [
    "Multiple models were evaluated to predict the success of bank telemarketing campaigns, with the F1-score being the primary metric for performance assessment.  Below is the score comparision across the models."
   ]
  },
  {
   "cell_type": "code",
   "execution_count": 45,
   "id": "6e20afe4",
   "metadata": {
    "execution": {
     "iopub.execute_input": "2024-11-10T14:11:02.965759Z",
     "iopub.status.busy": "2024-11-10T14:11:02.965364Z",
     "iopub.status.idle": "2024-11-10T14:11:04.363228Z",
     "shell.execute_reply": "2024-11-10T14:11:04.362161Z"
    },
    "papermill": {
     "duration": 1.424889,
     "end_time": "2024-11-10T14:11:04.365874",
     "exception": false,
     "start_time": "2024-11-10T14:11:02.940985",
     "status": "completed"
    },
    "tags": []
   },
   "outputs": [
    {
     "data": {
      "image/png": "[encoded data removed]",
      "text/plain": [
       "<Figure size 1200x600 with 6 Axes>"
      ]
     },
     "metadata": {},
     "output_type": "display_data"
    }
   ],
   "source": [
    "# Predictions for each model\n",
    "y_pred_logistic = logistic_hpt_model.predict(X_val_selected)\n",
    "y_pred_sgd = sgd_hpt_model.predict(X_val_selected)\n",
    "y_pred_dt = dt_hpt_model.predict(X_val)\n",
    "y_pred_rfc = rfc_model.predict(X_val)\n",
    "y_pred_gbm = gbm_model.predict(X_val)\n",
    "y_pred_xgb = xgb_model.predict(X_val)\n",
    "\n",
    "# Define titles and predictions for each model\n",
    "models = [\n",
    "    (\"Logistic Regression\", y_pred_logistic),\n",
    "    (\"SGD Classifier\", y_pred_sgd),\n",
    "    (\"Decision Tree\", y_pred_dt),\n",
    "    (\"Random Forest\", y_pred_rfc),\n",
    "    (\"Gradient Boosting\", y_pred_gbm),\n",
    "    (\"XGBoost\", y_pred_xgb),\n",
    "]\n",
    "\n",
    "# Function to set text color based on the desired logic\n",
    "def get_text_color(value, is_tn_or_tp):\n",
    "    if is_tn_or_tp:\n",
    "        # Green for TN and TP, as high is better\n",
    "        if value > 80:\n",
    "            return \"darkgreen\"\n",
    "        elif value > 50:\n",
    "            return \"darkorange\"\n",
    "        else:\n",
    "            return \"red\"\n",
    "    else:\n",
    "        # Green for FN and FP, as low is better (inverse logic)\n",
    "        if value < 20:\n",
    "            return \"darkgreen\"\n",
    "        elif value < 50:\n",
    "            return \"darkorange\"\n",
    "        else:\n",
    "            return \"red\"\n",
    "\n",
    "# Set up the figure with compact size\n",
    "fig, axes = plt.subplots(2, 3, figsize=(12, 6))\n",
    "fig.suptitle(\"Confusion Matrices (in %) for Each Model\", fontsize=16)\n",
    "\n",
    "# Flatten axes for easy iteration\n",
    "axes = axes.flatten()\n",
    "\n",
    "# Plot each confusion matrix in a compact format\n",
    "for i, (title, y_pred) in enumerate(models):\n",
    "    # Compute confusion matrix and normalize to get percentages\n",
    "    cm = confusion_matrix(y_val, y_pred, normalize='true') * 100\n",
    "    \n",
    "    # Extract values for easy display\n",
    "    tn, fp, fn, tp = cm.ravel()\n",
    "    \n",
    "    # Display the confusion matrix with label and value on separate lines\n",
    "    axes[i].text(0.5, 0.7, f\"TN\\n{tn:.2f}%\", ha='center', fontsize=12, color=get_text_color(tn, True))\n",
    "    axes[i].text(1.5, 0.7, f\"FP\\n{fp:.2f}%\", ha='center', fontsize=12, color=get_text_color(fp, False))\n",
    "    axes[i].text(0.5, 0.3, f\"FN\\n{fn:.2f}%\", ha='center', fontsize=12, color=get_text_color(fn, False))\n",
    "    axes[i].text(1.5, 0.3, f\"TP\\n{tp:.2f}%\", ha='center', fontsize=12, color=get_text_color(tp, True))\n",
    "    \n",
    "    # Formatting for each subplot\n",
    "    axes[i].set_xticks([])\n",
    "    axes[i].set_yticks([])\n",
    "    axes[i].set_xlim(0, 2)\n",
    "    axes[i].set_ylim(0, 1)\n",
    "    axes[i].set_title(title)\n",
    "    axes[i].plot([], [])  # Hide default box and grid\n",
    "\n",
    "# Remove empty spaces and display the compact confusion matrices\n",
    "plt.tight_layout(rect=[0, 0, 1, 0.95])\n",
    "plt.show()\n"
   ]
  },
  {
   "cell_type": "code",
   "execution_count": 46,
   "id": "8f0413e2",
   "metadata": {
    "execution": {
     "iopub.execute_input": "2024-11-10T14:11:04.416303Z",
     "iopub.status.busy": "2024-11-10T14:11:04.415912Z",
     "iopub.status.idle": "2024-11-10T14:11:04.870954Z",
     "shell.execute_reply": "2024-11-10T14:11:04.869907Z"
    },
    "papermill": {
     "duration": 0.483132,
     "end_time": "2024-11-10T14:11:04.873346",
     "exception": false,
     "start_time": "2024-11-10T14:11:04.390214",
     "status": "completed"
    },
    "tags": []
   },
   "outputs": [
    {
     "data": {
      "image/png": "[encoded data removed]",
      "text/plain": [
       "<Figure size 1000x600 with 1 Axes>"
      ]
     },
     "metadata": {},
     "output_type": "display_data"
    }
   ],
   "source": [
    "scores_summary.sort_values(by=\"Validation F1 score\", inplace=True)\n",
    "\n",
    "# Plotting\n",
    "plt.figure(figsize=(10, 6))\n",
    "bars = plt.bar(scores_summary[\"Model\"], scores_summary[\"Validation F1 score\"],width=0.3)\n",
    "plt.xlabel('Model',fontsize=12)\n",
    "plt.ylabel('F1 Score',fontsize=12)\n",
    "plt.title('Validation F1 Scores of Different Models')\n",
    "plt.ylim(0, 1)\n",
    "\n",
    "# Add annotations on top of each bar\n",
    "for bar in bars:\n",
    "    yval = bar.get_height()\n",
    "    plt.text(bar.get_x() + bar.get_width() / 2, yval + 0.02, round(yval, 4), \n",
    "             ha='center', va='bottom', fontsize=10, )\n",
    "\n",
    "plt.axhline(y=0.75, color='red', linestyle='--', linewidth=1)\n",
    "plt.text(-0.5, 0.75, 'Cutoff(0.75)', color='red', va='center', ha='right', fontsize=10)\n",
    "plt.tight_layout()\n",
    "plt.show()"
   ]
  },
  {
   "cell_type": "markdown",
   "id": "c90d55de",
   "metadata": {
    "papermill": {
     "duration": 0.024446,
     "end_time": "2024-11-10T14:11:04.922885",
     "exception": false,
     "start_time": "2024-11-10T14:11:04.898439",
     "status": "completed"
    },
    "tags": []
   },
   "source": [
    "* Dummy classifier served as a baseline, with validation F1-score of 0.439. \n",
    "* Among the models tested, XGBoost performed the best with a score of 0.776, demonstrating its superior ability to handle the complexities of the dataset. \n",
    "* Random Forest and Stochastic Gradient Descent (SGD) also performed well.\n",
    "* Logistic regression and Decision Tree models achieved comparable scores around 0.745, while Gradient Boost had a slightly lower F1-score of 0.734. \n",
    "\n",
    "**Overall, XGBoost stood out as the most effective model for this task.**"
   ]
  },
  {
   "cell_type": "markdown",
   "id": "6d9ce3f4",
   "metadata": {
    "papermill": {
     "duration": 0.023939,
     "end_time": "2024-11-10T14:11:04.971136",
     "exception": false,
     "start_time": "2024-11-10T14:11:04.947197",
     "status": "completed"
    },
    "tags": []
   },
   "source": [
    "# **Final Prediction and Conclusion**"
   ]
  },
  {
   "cell_type": "markdown",
   "id": "e7d39a32",
   "metadata": {
    "papermill": {
     "duration": 0.024099,
     "end_time": "2024-11-10T14:11:05.019555",
     "exception": false,
     "start_time": "2024-11-10T14:11:04.995456",
     "status": "completed"
    },
    "tags": []
   },
   "source": [
    "After comparing various models, XGBoost proved to be the most accurate and reliable for this prediction task. The model's robustness and consistency across both training and validation datasets make it a strong choice for deployment in real-world applications. However, further tuning and validation on unseen data may further enhance performance."
   ]
  },
  {
   "cell_type": "code",
   "execution_count": 47,
   "id": "6218832a",
   "metadata": {
    "execution": {
     "iopub.execute_input": "2024-11-10T14:11:05.071657Z",
     "iopub.status.busy": "2024-11-10T14:11:05.071032Z",
     "iopub.status.idle": "2024-11-10T14:11:05.276467Z",
     "shell.execute_reply": "2024-11-10T14:11:05.275460Z"
    },
    "papermill": {
     "duration": 0.233716,
     "end_time": "2024-11-10T14:11:05.279066",
     "exception": false,
     "start_time": "2024-11-10T14:11:05.045350",
     "status": "completed"
    },
    "tags": []
   },
   "outputs": [],
   "source": [
    "y_test = xgb_model.predict(X_test)"
   ]
  },
  {
   "cell_type": "code",
   "execution_count": 48,
   "id": "47cdbd15",
   "metadata": {
    "execution": {
     "iopub.execute_input": "2024-11-10T14:11:05.331740Z",
     "iopub.status.busy": "2024-11-10T14:11:05.331123Z",
     "iopub.status.idle": "2024-11-10T14:11:05.354759Z",
     "shell.execute_reply": "2024-11-10T14:11:05.354000Z"
    },
    "papermill": {
     "duration": 0.052376,
     "end_time": "2024-11-10T14:11:05.356901",
     "exception": false,
     "start_time": "2024-11-10T14:11:05.304525",
     "status": "completed"
    },
    "tags": []
   },
   "outputs": [],
   "source": [
    "submission = pd.DataFrame(columns=['id','target'])\n",
    "submission['id'] = [i for i in range(len(y_test))]\n",
    "submission['target'] = pd.Series(y_test).map({0:'no',1:'yes'})\n",
    "submission.to_csv('submission.csv',index=False)"
   ]
  }
 ],
 "metadata": {
  "kaggle": {
   "accelerator": "none",
   "dataSources": [
    {
     "databundleVersionId": 9578279,
     "sourceId": 85062,
     "sourceType": "competition"
    }
   ],
   "dockerImageVersionId": 30761,
   "isGpuEnabled": false,
   "isInternetEnabled": false,
   "language": "python",
   "sourceType": "notebook"
  },
  "kernelspec": {
   "display_name": "Python 3",
   "language": "python",
   "name": "python3"
  },
  "language_info": {
   "codemirror_mode": {
    "name": "ipython",
    "version": 3
   },
   "file_extension": ".py",
   "mimetype": "text/x-python",
   "name": "python",
   "nbconvert_exporter": "python",
   "pygments_lexer": "ipython3",
   "version": "3.10.14"
  },
  "papermill": {
   "default_parameters": {},
   "duration": 142.489941,
   "end_time": "2024-11-10T14:11:08.002096",
   "environment_variables": {},
   "exception": null,
   "input_path": "__notebook__.ipynb",
   "output_path": "__notebook__.ipynb",
   "parameters": {},
   "start_time": "2024-11-10T14:08:45.512155",
   "version": "2.6.0"
  }
 },
 "nbformat": 4,
 "nbformat_minor": 5
}
